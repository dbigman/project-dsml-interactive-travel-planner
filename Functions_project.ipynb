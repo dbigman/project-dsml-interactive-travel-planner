{
  "nbformat": 4,
  "nbformat_minor": 0,
  "metadata": {
    "colab": {
      "provenance": [],
      "include_colab_link": true
    },
    "kernelspec": {
      "name": "python3",
      "display_name": "Python 3"
    },
    "language_info": {
      "name": "python"
    }
  },
  "cells": [
    {
      "cell_type": "markdown",
      "metadata": {
        "id": "view-in-github",
        "colab_type": "text"
      },
      "source": [
        "<a href=\"https://colab.research.google.com/github/dbigman/project-dsml-interactive-travel-planner/blob/main/Functions_project.ipynb\" target=\"_parent\"><img src=\"https://colab.research.google.com/assets/colab-badge.svg\" alt=\"Open In Colab\"/></a>"
      ]
    },
    {
      "cell_type": "code",
      "source": [
        "# Mount Drive\n",
        "from google.colab import drive\n",
        "drive.mount('/content/drive/')"
      ],
      "metadata": {
        "colab": {
          "base_uri": "https://localhost:8080/"
        },
        "id": "wDA65Dzu6yN1",
        "outputId": "030e5a67-8b0f-4fd5-e0f8-c9a3c280ca2c"
      },
      "execution_count": null,
      "outputs": [
        {
          "output_type": "stream",
          "name": "stdout",
          "text": [
            "Mounted at /content/drive/\n"
          ]
        }
      ]
    },
    {
      "cell_type": "code",
      "source": [
        "import requests\n",
        "from datetime import datetime, timedelta\n",
        "import json\n",
        "import chromadb\n",
        "from sentence_transformers import SentenceTransformer\n"
      ],
      "metadata": {
        "id": "r77BKDur3c82"
      },
      "execution_count": null,
      "outputs": []
    },
    {
      "cell_type": "markdown",
      "source": [
        "# Functions"
      ],
      "metadata": {
        "id": "fbhOjgOttTDR"
      }
    },
    {
      "cell_type": "code",
      "execution_count": null,
      "metadata": {
        "colab": {
          "base_uri": "https://localhost:8080/"
        },
        "id": "uJiSqpRItIPc",
        "outputId": "1610fd02-d503-4cd8-a4c9-85d1b6aa9a74"
      },
      "outputs": [
        {
          "output_type": "stream",
          "name": "stdout",
          "text": [
            "{'date': '2025-02-15 00:00:00', 'temperature': 23.52, 'description': 'clear sky', 'humidity': 79, 'wind_speed': 5.95}\n"
          ]
        }
      ],
      "source": [
        "API_KEY = \"f5b3be307a91026889509d3e0cbee098\"  # Replace with your API key\n",
        "BASE_URL = \"https://api.openweathermap.org/data/2.5/forecast\"\n",
        "\n",
        "def find_weather_forecast(date, location):\n",
        "    \"\"\"\n",
        "    Retrieves the weather forecast for a given date and location using OpenWeather API.\n",
        "\n",
        "    Parameters:\n",
        "    - date (str): Target date in 'YYYY-MM-DD' format.\n",
        "    - location (str): City name or \"city, country\" (e.g., \"San Juan, PR\").\n",
        "\n",
        "    Returns:\n",
        "    - dict: Weather forecast details (temperature, description, etc.).\n",
        "    \"\"\"\n",
        "    try:\n",
        "        # Get weather data\n",
        "        params = {\n",
        "            \"q\": location,\n",
        "            \"appid\": API_KEY,\n",
        "            \"units\": \"metric\",  # Use \"imperial\" for Fahrenheit\n",
        "        }\n",
        "        response = requests.get(BASE_URL, params=params)\n",
        "        data = response.json()\n",
        "\n",
        "        if response.status_code != 200:\n",
        "            return {\"error\": data.get(\"message\", \"Failed to fetch weather data\")}\n",
        "\n",
        "        # Convert input date to datetime\n",
        "        target_date = datetime.strptime(date, \"%Y-%m-%d\")\n",
        "\n",
        "        # Find the closest forecast for the given date\n",
        "        closest_forecast = None\n",
        "        min_diff = timedelta.max\n",
        "\n",
        "        for forecast in data[\"list\"]:\n",
        "            forecast_time = datetime.utcfromtimestamp(forecast[\"dt\"])\n",
        "            time_diff = abs(forecast_time - target_date)\n",
        "\n",
        "            if time_diff < min_diff:\n",
        "                min_diff = time_diff\n",
        "                closest_forecast = forecast\n",
        "\n",
        "        if closest_forecast:\n",
        "            return {\n",
        "                \"date\": closest_forecast[\"dt_txt\"],\n",
        "                \"temperature\": closest_forecast[\"main\"][\"temp\"],\n",
        "                \"description\": closest_forecast[\"weather\"][0][\"description\"],\n",
        "                \"humidity\": closest_forecast[\"main\"][\"humidity\"],\n",
        "                \"wind_speed\": closest_forecast[\"wind\"][\"speed\"],\n",
        "            }\n",
        "        else:\n",
        "            return {\"error\": \"No forecast found for the specified date\"}\n",
        "\n",
        "    except Exception as e:\n",
        "        return {\"error\": str(e)}\n",
        "\n",
        "# Example usage:\n",
        "print(find_weather_forecast(\"2025-02-15\", \"San Juan, PR\"))"
      ]
    },
    {
      "cell_type": "markdown",
      "source": [
        "## Landmark Embeddings"
      ],
      "metadata": {
        "id": "WJm5uwE66_F_"
      }
    },
    {
      "cell_type": "code",
      "source": [
        "# Load embedding model\n",
        "embedding_model = SentenceTransformer(\"paraphrase-MiniLM-L6-v2\")\n",
        "\n",
        "# Define ChromaDB storage path (Google Drive in your case)\n",
        "CHROMA_DB_PATH = \"/content/drive/MyDrive/IronHack_final_project/chromadb\"\n",
        "\n",
        "# Initialize ChromaDB client\n",
        "client = chromadb.PersistentClient(path=CHROMA_DB_PATH)\n",
        "\n",
        "# Create or get collection for landmarks\n",
        "landmark_collection = client.get_or_create_collection(name=\"landmarks\")\n",
        "\n",
        "# Load landmarks data from JSON file\n",
        "with open(\"/content/drive/MyDrive/IronHack_final_project/landmarks.json\", \"r\", encoding=\"utf-8\") as file:\n",
        "    landmarks = json.load(file)\n",
        "\n",
        "# Store landmarks in ChromaDB\n",
        "for landmark in landmarks:\n",
        "    # Ensure required fields exist\n",
        "    if \"name\" not in landmark or \"description\" not in landmark:\n",
        "        print(f\"Skipping entry due to missing fields: {landmark}\")\n",
        "        continue\n",
        "\n",
        "    # Generate a unique ID from the landmark name\n",
        "    landmark_id = landmark[\"name\"].replace(\" \", \"_\").lower()\n",
        "\n",
        "    # Convert description from list to string (if needed)\n",
        "    if isinstance(landmark[\"description\"], list):\n",
        "        landmark[\"description\"] = \" \".join(landmark[\"description\"]).replace(\"\\\\n\", \" \").strip()\n",
        "\n",
        "    # Generate embedding for the landmark description\n",
        "    embedding = embedding_model.encode(landmark[\"description\"]).tolist()\n",
        "\n",
        "    # Ensure all metadata values are valid (convert None to \"Unknown\")\n",
        "    metadata = {\n",
        "        \"name\": landmark[\"name\"] if landmark[\"name\"] is not None else \"Unknown\",\n",
        "        \"description\": landmark[\"description\"] if landmark[\"description\"] is not None else \"Unknown\",\n",
        "        \"category\": landmark.get(\"category\", \"Unknown\") if landmark.get(\"category\") is not None else \"Unknown\",\n",
        "        \"municipality\": landmark.get(\"municipality\", \"Unknown\") if landmark.get(\"municipality\") is not None else \"Unknown\",\n",
        "        \"coordinates\": str(landmark[\"coordinates\"]) if landmark[\"coordinates\"] is not None else \"Unknown\",\n",
        "        \"source_file\": landmark.get(\"source_file\", \"Unknown\") if landmark.get(\"source_file\") is not None else \"Unknown\"\n",
        "    }\n",
        "\n",
        "    # Add to ChromaDB\n",
        "    landmark_collection.add(\n",
        "        ids=[landmark_id],\n",
        "        embeddings=[embedding],\n",
        "        metadatas=[metadata]\n",
        "    )\n",
        "\n",
        "print(\"Landmarks stored in ChromaDB successfully!\")"
      ],
      "metadata": {
        "colab": {
          "base_uri": "https://localhost:8080/"
        },
        "id": "hNAFurWluEmR",
        "outputId": "3746955c-f93f-4dd8-ee8f-cfa7bd61fd50"
      },
      "execution_count": null,
      "outputs": [
        {
          "output_type": "stream",
          "name": "stderr",
          "text": [
            "WARNING:chromadb.segment.impl.vector.local_persistent_hnsw:Add of existing embedding ID: ponce_historic_zone_-_wikipedia\n",
            "WARNING:chromadb.segment.impl.metadata.sqlite:Insert of existing embedding ID: ponce_historic_zone_-_wikipedia\n",
            "WARNING:chromadb.segment.impl.vector.local_persistent_hnsw:Add of existing embedding ID: ponce_historic_zone_-_wikipedia\n",
            "WARNING:chromadb.segment.impl.metadata.sqlite:Insert of existing embedding ID: ponce_historic_zone_-_wikipedia\n",
            "WARNING:chromadb.segment.impl.vector.local_persistent_hnsw:Add of existing embedding ID: club_nutico_de_ponce_-_wikipedia\n",
            "WARNING:chromadb.segment.impl.metadata.sqlite:Insert of existing embedding ID: club_nutico_de_ponce_-_wikipedia\n",
            "WARNING:chromadb.segment.impl.vector.local_persistent_hnsw:Add of existing embedding ID: complejo_recreativo_y_cultural_la_guancha_-_wikipedia\n",
            "WARNING:chromadb.segment.impl.metadata.sqlite:Insert of existing embedding ID: complejo_recreativo_y_cultural_la_guancha_-_wikipedia\n",
            "WARNING:chromadb.segment.impl.vector.local_persistent_hnsw:Add of existing embedding ID: dos_bocas_lake_-_wikipedia\n",
            "WARNING:chromadb.segment.impl.metadata.sqlite:Insert of existing embedding ID: dos_bocas_lake_-_wikipedia\n"
          ]
        },
        {
          "output_type": "stream",
          "name": "stdout",
          "text": [
            "Landmarks stored in ChromaDB successfully!\n"
          ]
        }
      ]
    },
    {
      "cell_type": "markdown",
      "source": [
        "## Municipalities Embeddings"
      ],
      "metadata": {
        "id": "C0NDbk85AIvr"
      }
    },
    {
      "cell_type": "code",
      "source": [
        "import json\n",
        "import chromadb\n",
        "from sentence_transformers import SentenceTransformer\n",
        "\n",
        "# Load embedding model\n",
        "embedding_model = SentenceTransformer(\"paraphrase-MiniLM-L6-v2\")\n",
        "\n",
        "# Define ChromaDB storage path (Google Drive in your case)\n",
        "CHROMA_DB_PATH = \"/content/drive/MyDrive/IronHack_final_project/chromadb_municipalities\"\n",
        "\n",
        "# Initialize ChromaDB client\n",
        "client = chromadb.PersistentClient(path=CHROMA_DB_PATH)\n",
        "\n",
        "# Create or get collection for municipalities\n",
        "municipality_collection = client.get_or_create_collection(name=\"municipalities\")\n",
        "\n",
        "# Load municipalities data from JSON file\n",
        "with open(\"/content/drive/MyDrive/IronHack_final_project/municipalities.json\", \"r\", encoding=\"utf-8\") as file:\n",
        "    municipalities = json.load(file)\n",
        "\n",
        "# Store municipalities in ChromaDB\n",
        "for municipality in municipalities:\n",
        "    # Ensure required fields exist\n",
        "    if \"name\" not in municipality or \"description\" not in municipality:\n",
        "        print(f\"Skipping entry due to missing fields: {municipality}\")\n",
        "        continue\n",
        "\n",
        "    # Generate a unique ID from the municipality name\n",
        "    municipality_id = municipality[\"name\"].replace(\" \", \"_\").lower()\n",
        "\n",
        "    # Convert description from list to string (if needed)\n",
        "    if isinstance(municipality[\"description\"], list):\n",
        "        municipality[\"description\"] = \" \".join(municipality[\"description\"]).replace(\"\\\\n\", \" \").strip()\n",
        "\n",
        "    # Generate embedding for the municipality description\n",
        "    embedding = embedding_model.encode(municipality[\"description\"]).tolist()\n",
        "\n",
        "    # Ensure all metadata values are valid (convert None to \"Unknown\")\n",
        "    metadata = {\n",
        "        \"name\": municipality[\"name\"] if municipality[\"name\"] is not None else \"Unknown\",\n",
        "        \"description\": municipality[\"description\"] if municipality[\"description\"] is not None else \"Unknown\",\n",
        "        \"category\": municipality.get(\"category\", \"Municipality\") if municipality.get(\"category\") is not None else \"Municipality\",\n",
        "        \"coordinates\": str(municipality[\"coordinates\"]) if municipality[\"coordinates\"] is not None else \"Unknown\",\n",
        "        \"source_file\": municipality.get(\"source_file\", \"Unknown\") if municipality.get(\"source_file\") is not None else \"Unknown\"\n",
        "    }\n",
        "\n",
        "    # Add to ChromaDB\n",
        "    municipality_collection.add(\n",
        "        ids=[municipality_id],\n",
        "        embeddings=[embedding],\n",
        "        metadatas=[metadata]\n",
        "    )\n",
        "\n",
        "print(\"Municipalities stored in ChromaDB successfully!\")"
      ],
      "metadata": {
        "colab": {
          "base_uri": "https://localhost:8080/"
        },
        "id": "7P-biPHpAL1-",
        "outputId": "94769148-899a-4f8c-f315-de7bb02a6f21"
      },
      "execution_count": null,
      "outputs": [
        {
          "output_type": "stream",
          "name": "stdout",
          "text": [
            "Municipalities stored in ChromaDB successfully!\n"
          ]
        }
      ]
    },
    {
      "cell_type": "markdown",
      "source": [
        "## Appropriate location function"
      ],
      "metadata": {
        "id": "CYrEScm391kN"
      }
    },
    {
      "cell_type": "code",
      "source": [
        "def rank_appropriate_locations(user_prompt, top_k=5):\n",
        "    \"\"\"\n",
        "    Finds and ranks appropriate landmarks based on user input.\n",
        "\n",
        "    Args:\n",
        "        user_prompt (str): The user's interest (e.g., \"I love the beach and history\").\n",
        "        top_k (int): Number of top results to return.\n",
        "\n",
        "    Returns:\n",
        "        List of top_k ranked locations.\n",
        "    \"\"\"\n",
        "    # Ensure ChromaDB is initialized\n",
        "    global landmark_collection  # Ensure we're using the same collection\n",
        "\n",
        "    # Convert user prompt into an embedding\n",
        "    user_embedding = embedding_model.encode(user_prompt).tolist()\n",
        "\n",
        "    # Retrieve top relevant locations using similarity search\n",
        "    search_results = landmark_collection.query(\n",
        "        query_embeddings=[user_embedding],\n",
        "        n_results=top_k\n",
        "    )\n",
        "\n",
        "    # Extract matched locations\n",
        "    ranked_locations = [\n",
        "        {\n",
        "            \"name\": metadata[\"name\"],\n",
        "            \"description\": metadata[\"description\"],\n",
        "            \"category\": metadata[\"category\"],\n",
        "            \"municipality\": metadata[\"municipality\"],\n",
        "            \"score\": score  # Similarity score\n",
        "        }\n",
        "        for metadata, score in zip(search_results[\"metadatas\"][0], search_results[\"distances\"][0])\n",
        "    ]\n",
        "\n",
        "    return ranked_locations"
      ],
      "metadata": {
        "id": "vCuLfmD49n-O"
      },
      "execution_count": null,
      "outputs": []
    },
    {
      "cell_type": "markdown",
      "source": [
        "## Apropriate location test"
      ],
      "metadata": {
        "id": "PkwEVB_c96ac"
      }
    },
    {
      "cell_type": "code",
      "source": [
        "user_prompt = \"I love beaches and historical places\"\n",
        "top_recommendations = rank_appropriate_locations(user_prompt)\n",
        "\n",
        "for idx, place in enumerate(top_recommendations, 1):\n",
        "    print(f\"{idx}. {place['name']} ({place['category']}) - {place['municipality']}\")\n",
        "    print(f\"   Score: {place['score']:.4f}\")\n",
        "    print(f\"   {place['description']}\\n\")"
      ],
      "metadata": {
        "colab": {
          "base_uri": "https://localhost:8080/"
        },
        "id": "CgvKKa-k99Ry",
        "outputId": "ad330f3c-b508-424c-852c-f48a4796a8f0"
      },
      "execution_count": null,
      "outputs": [
        {
          "output_type": "stream",
          "name": "stdout",
          "text": [
            "1. Caracas Beach (Vieques) - Wikipedia (Landmark) - Unknown\n",
            "   Score: 44.3121\n",
            "   Caracas Beach(Spanish:Playa Caracas), also known asRed BeachinEnglish, is a beach on the southern coast ofViequesin the barrio ofPuerto Ferro. The beach is famous for its white sand, its clear blue waters,tidal poolsand shallow cove perfect for snorkeling. It used to be considered remote but it is now easily reachable through a paved road. The beach has also been developed for visitors with picnic areas, bathrooms and a large parking area. It is located in and managed by theVieques National Wildlife Refugeand there is also a trail that leads to a nearby hill that offers beautiful views of the beach and cove.[1][2][3]  18631N652447W﻿ / ﻿18.10861N 65.41306W﻿ /18.10861; -65.41306\n",
            "\n",
            "2. Esperanza Beach - Wikipedia (Landmark) - Unknown\n",
            "   Score: 49.4853\n",
            "   Esperanza Beach(Spanish:Playa La Esperanza) is a popular beach on the southern coast ofViequesinLa Esperanza,Puerto Real. In comparison to other beaches in the island which are located far away from populated areas, this beach is located close to La Esperanza and it hosts a number of hotels, restaurants, food kiosks and stores.[1][2]Esperanza Pier, located on the western part of the beach, is considered a landmark of Vieques.[3]It is a very popular weekend destination for locals and visitors alike. The beach is located betweenSun Bay BeachandBlack Sand Beachand both can be reached by foot from La Esperanza.[4][5][6]  18540N652819W﻿ / ﻿18.09444N 65.47194W﻿ /18.09444; -65.47194\n",
            "\n",
            "3. Blue Beach (Vieques) - Wikipedia (Landmark) - Unknown\n",
            "   Score: 51.2017\n",
            "   Blue Beach, better known asLa Chiva Beach(Spanish:Playa La Chiva), is a popular beach on the southern coast ofViequesin barrioPuerto Ferro. The beach is considered one of the best in both Vieques andPuerto Ricofor its breathtaking scenery, its soft sand and crystal clear water, ideal for swimming and snorkeling.[1][2][3]The beach is known as La Chiva Beach by locals, and itsEnglishname originated as a nickname that was given to it by members of theUS Navy.[4]The area was formerly used by the Navy but it has been declared safe for visitors; however, beachgoers are prohibited from entering La Chiva Key due to the risk ofunexploded ordnance.[4]The beach was closed for a time after the destruction caused byHurricane Irmain 2017 but it reopened the next year.[5]  The beach is part of theVieques National Wildlife Refugeand it offers gazebos for picnics, restrooms and trash bins. It is located approximately 20 minutes by car from theVieques FerryTerminal and 25 minutes by car from theAntonio Rivera Rodrguez Airport.[6]  18647N652315W﻿ / ﻿18.11306N 65.38750W﻿ /18.11306; -65.38750\n",
            "\n",
            "4. Domes Beach - Wikipedia (Landmark) - Unknown\n",
            "   Score: 51.4231\n",
            "   182151N671613W﻿ / ﻿18.3641129N 67.2701808W﻿ /18.3641129; -67.2701808  Domes Beach(Playa Domes) is on the northwest point of Puerto Rico, inRincnand known for big wave surfing during the winter. It is also known as Lighthouse Beach and Maria\\'s Beach.[1]  The beach is near a defunctnuclear facilitycalled theBoiling Nuclear Superheater (BONUS) Reactor Facility.[2]The beach is near thePunta Higuero Lighthouse.\n",
            "\n",
            "5. Buy Beach - Wikipedia (Landmark) - Unknown\n",
            "   Score: 51.8638\n",
            "   Buy Beach(Spanish:Playa Buy) is a Caribbean beach that is located inCabo Rojo, on the south-western coast ofPuerto Rico.   18255N671155W﻿ / ﻿18.04861N 67.19861W﻿ /18.04861; -67.19861\n",
            "\n"
          ]
        }
      ]
    },
    {
      "cell_type": "markdown",
      "source": [
        "## Find info on location"
      ],
      "metadata": {
        "id": "MwdsaFRY-JL_"
      }
    },
    {
      "cell_type": "code",
      "source": [
        "def find_info_on_location(user_prompt, location, top_k=3):\n",
        "    \"\"\"\n",
        "    Retrieves relevant information about a given location based on user query.\n",
        "\n",
        "    Args:\n",
        "        user_prompt (str): The user's specific request (e.g., \"Tell me about the history of Old San Juan\").\n",
        "        location (str): The location for which the user wants information.\n",
        "        top_k (int): Number of top results to return.\n",
        "\n",
        "    Returns:\n",
        "        List of relevant document excerpts.\n",
        "    \"\"\"\n",
        "    # Ensure ChromaDB is initialized\n",
        "    global landmark_collection\n",
        "\n",
        "    # Encode user query into an embedding\n",
        "    query_embedding = embedding_model.encode(f\"{user_prompt} about {location}\").tolist()\n",
        "\n",
        "    # Search for relevant information in ChromaDB\n",
        "    search_results = landmark_collection.query(\n",
        "        query_embeddings=[query_embedding],\n",
        "        n_results=top_k\n",
        "    )\n",
        "\n",
        "    # Extract matched documents\n",
        "    relevant_info = [\n",
        "        {\n",
        "            \"name\": metadata[\"name\"],\n",
        "            \"description\": metadata[\"description\"],\n",
        "            \"category\": metadata[\"category\"],\n",
        "            \"municipality\": metadata[\"municipality\"],\n",
        "            \"score\": score  # Similarity score\n",
        "        }\n",
        "        for metadata, score in zip(search_results[\"metadatas\"][0], search_results[\"distances\"][0])\n",
        "        if location.lower() in metadata[\"name\"].lower()  # Filter by location name\n",
        "    ]\n",
        "\n",
        "    return relevant_info"
      ],
      "metadata": {
        "id": "bgZyrVRQ-ONa"
      },
      "execution_count": null,
      "outputs": []
    },
    {
      "cell_type": "markdown",
      "source": [
        "## Find info on location test"
      ],
      "metadata": {
        "id": "4X21ssdd_Wsm"
      }
    },
    {
      "cell_type": "code",
      "source": [
        "user_query = \"What is the history of this place?\"\n",
        "location = \"Caguas\"\n",
        "\n",
        "info = find_info_on_location(user_query, location)\n",
        "\n",
        "for idx, entry in enumerate(info, 1):\n",
        "    print(f\"{idx}. {entry['name']} ({entry['category']}) - {entry['municipality']}\")\n",
        "    print(f\"   Score: {entry['score']:.4f}\")\n",
        "    print(f\"   {entry['description']}\\n\")\n"
      ],
      "metadata": {
        "colab": {
          "base_uri": "https://localhost:8080/"
        },
        "id": "4Gl6DEse_Udx",
        "outputId": "0d1b8e18-7834-4290-8568-dee8ac5511d3"
      },
      "execution_count": null,
      "outputs": [
        {
          "output_type": "stream",
          "name": "stdout",
          "text": [
            "1. Caguas barrio-pueblo - Wikipedia (Landmark) - Unknown\n",
            "   Score: 30.0830\n",
            "   Caguas Pueblois abarrioanddowntownarea that serves the administrative center (seat) of the city and municipality ofCaguas, a municipality of Puerto Rico. It is bordered by theCagitas Riverto the north and located two miles southwest of theRo Grande de Loza. Its population in 2020 was 19,020.[4][5][6][7]  As was customary inSpain, in Puerto Rico, the municipality has a barrio calledpueblo(barrio-pueblostarting with the 1990 US Census) which contains a central plaza or main town square, the municipal buildings (such as the city hall), and a Catholic church.Fiestas patronales(patron saint festivals) are held in the main town square every year.[8][9]The municipal and mayoral offices were located in theCity Hall buildingat the western edge of the main town square until 2010 when a new City Hall building located in the northwestern side of the downtown area was inaugurated.  Thehistoric downtown district(pueblo) of Caguas was listed on thePuerto Rico Register of Historic Sites and Zones(Registro Nacional de Sitios y Zonas Histricas) on July 6, 1996, under the nameZona Histrica de Caguas.[10]\n",
            "\n",
            "2. Caguas City Hall - Wikipedia (Landmark) - Unknown\n",
            "   Score: 31.0077\n",
            "   TheCaguas City Hall(Spanish:Casa de la Alcalda de Caguas) consists of two buildings located in thedowntown areaofCaguas, Puerto Rico.  The original city hall building (Spanish:Antigua Casa Alcalda) of the municipality of Caguas dates to 1856-1860, although it did not officially become the municipal headquarters until 1887. The building is well-maintained and still preserves its originalNeoclassicalfaade.[2]The building was added to theNational Register of Historic PlacesasAlcaldia de Caguasin March 22, 1989.[3]This building hosted municipal offices until 2010 when the new city hall building was inaugurated. The building now houses several cultural institutions including amuseumdedicated to thehistory of Caguas.[4]  The building of a new city hall was part of a project to develop and build more modern office and administrative spaces in the city. Some people, however, have criticized the continuous use ofBrutalist architecturein new government buildings. The new city hall building, nicknamed \"El Cacique Mayor\" (Spanish for \\'the majorcacique\\'), was inaugurated in September 2010 by Caguas mayorWilliam Edgardo Miranda Torres.[5][6]\n",
            "\n",
            "3. Caguas Museum of Art - Wikipedia (Landmark) - Unknown\n",
            "   Score: 33.3330\n",
            "   TheCaguas Museum of Art(Spanish: Museo de Arte de Caguas) is anart museuminCaguas Pueblo, the downtown and administrative district of the municipality ofCaguas, Puerto Rico. The first level of the museum is dedicated to Caguas native painterCarlos Osorioand the second level offers temporary exhibitions. The entrance is free and guided tours are available.[1]The museum also host cultural events.  The museum is located in a historic two-story,neoclassicalbuilding calledCasa Amarilla(Spanish for \\'yellow house) which dates to the early 20th century. It is located on the corner of Padial and Ruiz Belvis streets. This building used to be the residence of the administrator of theAmerican Tobacco Companyin 1911.[2]  181408N660211W﻿ / ﻿18.23564N 66.03627W﻿ /18.23564; -66.03627\n",
            "\n"
          ]
        }
      ]
    },
    {
      "cell_type": "code",
      "source": [],
      "metadata": {
        "id": "6PrlmlKbGC_A"
      },
      "execution_count": null,
      "outputs": []
    },
    {
      "cell_type": "markdown",
      "source": [
        "# Assembling the assistant"
      ],
      "metadata": {
        "id": "kxR8lvKkHDt1"
      }
    },
    {
      "cell_type": "code",
      "source": [
        "# Imports\n",
        "import openai"
      ],
      "metadata": {
        "id": "XSuGHXtAHXEZ"
      },
      "execution_count": null,
      "outputs": []
    },
    {
      "cell_type": "code",
      "source": [
        "api_key_path = \"/content/drive/MyDrive/IronHack_final_project/API_Key1.txt\"\n",
        "\n",
        "# Read the key from the file\n",
        "with open(api_key_path, \"r\") as file:\n",
        "    openai.api_key = file.read().strip()  # Strip removes any extra spaces or newlines\n",
        "\n",
        "print(\"API Key Loaded Successfully!\")  # Just to confirm it's working"
      ],
      "metadata": {
        "colab": {
          "base_uri": "https://localhost:8080/"
        },
        "id": "7Kj63J2AHTDA",
        "outputId": "6dadde6f-f3a9-40aa-8b1d-5a4ac1e988fb"
      },
      "execution_count": null,
      "outputs": [
        {
          "output_type": "stream",
          "name": "stdout",
          "text": [
            "API Key Loaded Successfully!\n"
          ]
        }
      ]
    },
    {
      "cell_type": "code",
      "source": [
        "# Function to query the LLM\n",
        "def query_llm(prompt):\n",
        "    response = openai.Completion.create(\n",
        "        model=\"gpt-4\",  # You can also use \"gpt-3.5-turbo\"\n",
        "        prompt=prompt,\n",
        "        max_tokens=150,\n",
        "        temperature=0.7,\n",
        "    )\n",
        "    return response.choices[0].text.strip()"
      ],
      "metadata": {
        "id": "mhvFp3E3HGfa"
      },
      "execution_count": null,
      "outputs": []
    },
    {
      "cell_type": "code",
      "source": [
        "def generate_assistant_prompt(user_query, location=None):\n",
        "    # If the user mentions a location, adjust the prompt to provide more details\n",
        "    if location:\n",
        "        return f\"User asked about '{location}'. The location is part of a large list of landmarks and municipalities in Puerto Rico. Answer the user's query related to this location: '{user_query}'.\"\n",
        "    else:\n",
        "        return f\"User has the following query: '{user_query}'. Provide suggestions about relevant locations or landmarks in Puerto Rico based on the user’s interests.\"\n",
        "\n",
        "def find_relevant_documents(user_query):\n",
        "    # Query ChromaDB for relevant documents based on user interests or location\n",
        "    query_embedding = embedding_model.encode(user_query).tolist()\n",
        "\n",
        "    # Retrieve matching documents from the ChromaDB collections\n",
        "    results = landmark_collection.query(\n",
        "        query_embeddings=[query_embedding],\n",
        "        n_results=3  # Number of results to retrieve\n",
        "    )\n",
        "\n",
        "    print(\"Results from ChromaDB:\", results)  # Add this line to inspect the results\n",
        "    return results\n",
        "\n",
        "def assistant_response(user_query):\n",
        "    # Step 1: Find relevant documents based on user query\n",
        "    relevant_docs = find_relevant_documents(user_query)\n",
        "\n",
        "    # Step 2: Check if relevant documents exist and are not None\n",
        "    if relevant_docs and relevant_docs.get(\"documents\") and relevant_docs[\"documents\"][0] is not None:\n",
        "        # Extract the first document and get the metadata\n",
        "        location_info = relevant_docs[\"metadatas\"][0].get(\"name\", \"No location found\")\n",
        "        prompt = generate_assistant_prompt(user_query, location=location_info)\n",
        "    else:\n",
        "        prompt = f\"Sorry, I couldn't find any matching places for '{user_query}'. Could you provide more specific information?\"\n",
        "\n",
        "    # Step 3: Query the LLM for an answer\n",
        "    response = query_llm(prompt)\n",
        "\n",
        "    return response"
      ],
      "metadata": {
        "id": "tSoMzvPhHd5V"
      },
      "execution_count": null,
      "outputs": []
    },
    {
      "cell_type": "markdown",
      "source": [
        "## Testing the LLM\n"
      ],
      "metadata": {
        "id": "4Z8FJdjTHpXR"
      }
    },
    {
      "cell_type": "code",
      "source": [
        "# Simulate a conversation with the assistant\n",
        "user_input = \"I love the sun and beaches. What places should I visit in Puerto Rico?\"\n",
        "assistant_output = assistant_response(user_input)\n",
        "\n",
        "print(f\"Assistant: {assistant_output}\")"
      ],
      "metadata": {
        "colab": {
          "base_uri": "https://localhost:8080/",
          "height": 384
        },
        "id": "9jWA14EfHd70",
        "outputId": "ca3c2dc4-a394-4372-c2ce-32e4bbb26008"
      },
      "execution_count": null,
      "outputs": [
        {
          "output_type": "stream",
          "name": "stdout",
          "text": [
            "Results from ChromaDB: {'ids': [['caracas_beach_(vieques)_-_wikipedia', 'domes_beach_-_wikipedia', 'cao_tiburones_-_wikipedia']], 'embeddings': None, 'documents': [[None, None, None]], 'uris': None, 'data': None, 'metadatas': [[{'category': 'Landmark', 'coordinates': \"{'latitude': 18.108611111111113, 'longitude': -65.41305555555556}\", 'description': 'Caracas Beach(Spanish:Playa Caracas), also known asRed BeachinEnglish, is a beach on the southern coast ofViequesin the barrio ofPuerto Ferro. The beach is famous for its white sand, its clear blue waters,tidal poolsand shallow cove perfect for snorkeling. It used to be considered remote but it is now easily reachable through a paved road. The beach has also been developed for visitors with picnic areas, bathrooms and a large parking area. It is located in and managed by theVieques National Wildlife Refugeand there is also a trail that leads to a nearby hill that offers beautiful views of the beach and cove.[1][2][3]  18631N652447W\\ufeff / \\ufeff18.10861N 65.41306W\\ufeff /18.10861; -65.41306', 'municipality': 'Unknown', 'name': 'Caracas Beach (Vieques) - Wikipedia', 'source_file': 'caracas_beach_(vieques).txt'}, {'category': 'Landmark', 'coordinates': \"{'latitude': 18.3641129, 'longitude': -67.2701808}\", 'description': \"182151N671613W\\ufeff / \\ufeff18.3641129N 67.2701808W\\ufeff /18.3641129; -67.2701808  Domes Beach(Playa Domes) is on the northwest point of Puerto Rico, inRincnand known for big wave surfing during the winter. It is also known as Lighthouse Beach and Maria\\\\'s Beach.[1]  The beach is near a defunctnuclear facilitycalled theBoiling Nuclear Superheater (BONUS) Reactor Facility.[2]The beach is near thePunta Higuero Lighthouse.\", 'municipality': 'Unknown', 'name': 'Domes Beach - Wikipedia', 'source_file': 'domes_beach.txt'}, {'category': 'Landmark', 'coordinates': \"{'latitude': 18.473, 'longitude': -66.634}\", 'description': 'Cao Tiburonesis awetlandandnature reservelocated in the northern coast ofPuerto Ricoin the municipalities ofAreciboandBarceloneta. This is one of the largest wetlands in Puerto Rico, covering almost 7,000 acres. A large portion of the swamp, located in Arecibo, is protected as theCao Tiburones Nature Reserve.[1]  The average annual temperature is of 80F (26.9C). Precipitation varies from 1,000 to 2,000 mm of average annual rain; it is rainiest during the wet season, from May to September.[1]  The swamp is located north of theNorthern Karstzone of Puerto Rico and lies above a wide limestone area. Most of the terrain in the area consists of swamp deposits made ofclayandsiltwith smaller quantities ofsandandpeat. Most of the soil is hydric and organic with high acidity and poor drainage which sustains the swampy terrain.[1]', 'municipality': 'Unknown', 'name': 'Cao Tiburones - Wikipedia', 'source_file': 'caño_tiburones.txt'}]], 'distances': [[35.52013606029917, 35.523101806640625, 35.6112174987793]], 'included': [<IncludeEnum.distances: 'distances'>, <IncludeEnum.documents: 'documents'>, <IncludeEnum.metadatas: 'metadatas'>]}\n"
          ]
        },
        {
          "output_type": "error",
          "ename": "AttributeError",
          "evalue": "'list' object has no attribute 'get'",
          "traceback": [
            "\u001b[0;31m---------------------------------------------------------------------------\u001b[0m",
            "\u001b[0;31mAttributeError\u001b[0m                            Traceback (most recent call last)",
            "\u001b[0;32m<ipython-input-30-b88dd9382e78>\u001b[0m in \u001b[0;36m<cell line: 0>\u001b[0;34m()\u001b[0m\n\u001b[1;32m      1\u001b[0m \u001b[0;31m# Simulate a conversation with the assistant\u001b[0m\u001b[0;34m\u001b[0m\u001b[0;34m\u001b[0m\u001b[0m\n\u001b[1;32m      2\u001b[0m \u001b[0muser_input\u001b[0m \u001b[0;34m=\u001b[0m \u001b[0;34m\"I love the sun and beaches. What places should I visit in Puerto Rico?\"\u001b[0m\u001b[0;34m\u001b[0m\u001b[0;34m\u001b[0m\u001b[0m\n\u001b[0;32m----> 3\u001b[0;31m \u001b[0massistant_output\u001b[0m \u001b[0;34m=\u001b[0m \u001b[0massistant_response\u001b[0m\u001b[0;34m(\u001b[0m\u001b[0muser_input\u001b[0m\u001b[0;34m)\u001b[0m\u001b[0;34m\u001b[0m\u001b[0;34m\u001b[0m\u001b[0m\n\u001b[0m\u001b[1;32m      4\u001b[0m \u001b[0;34m\u001b[0m\u001b[0m\n\u001b[1;32m      5\u001b[0m \u001b[0mprint\u001b[0m\u001b[0;34m(\u001b[0m\u001b[0;34mf\"Assistant: {assistant_output}\"\u001b[0m\u001b[0;34m)\u001b[0m\u001b[0;34m\u001b[0m\u001b[0;34m\u001b[0m\u001b[0m\n",
            "\u001b[0;32m<ipython-input-29-55aa9a6a5811>\u001b[0m in \u001b[0;36massistant_response\u001b[0;34m(user_query)\u001b[0m\n\u001b[1;32m     26\u001b[0m     \u001b[0;32mif\u001b[0m \u001b[0mrelevant_docs\u001b[0m \u001b[0;32mand\u001b[0m \u001b[0mrelevant_docs\u001b[0m\u001b[0;34m.\u001b[0m\u001b[0mget\u001b[0m\u001b[0;34m(\u001b[0m\u001b[0;34m\"documents\"\u001b[0m\u001b[0;34m)\u001b[0m \u001b[0;32mand\u001b[0m \u001b[0mrelevant_docs\u001b[0m\u001b[0;34m[\u001b[0m\u001b[0;34m\"documents\"\u001b[0m\u001b[0;34m]\u001b[0m\u001b[0;34m[\u001b[0m\u001b[0;36m0\u001b[0m\u001b[0;34m]\u001b[0m \u001b[0;32mis\u001b[0m \u001b[0;32mnot\u001b[0m \u001b[0;32mNone\u001b[0m\u001b[0;34m:\u001b[0m\u001b[0;34m\u001b[0m\u001b[0;34m\u001b[0m\u001b[0m\n\u001b[1;32m     27\u001b[0m         \u001b[0;31m# Extract the first document and get the metadata\u001b[0m\u001b[0;34m\u001b[0m\u001b[0;34m\u001b[0m\u001b[0m\n\u001b[0;32m---> 28\u001b[0;31m         \u001b[0mlocation_info\u001b[0m \u001b[0;34m=\u001b[0m \u001b[0mrelevant_docs\u001b[0m\u001b[0;34m[\u001b[0m\u001b[0;34m\"metadatas\"\u001b[0m\u001b[0;34m]\u001b[0m\u001b[0;34m[\u001b[0m\u001b[0;36m0\u001b[0m\u001b[0;34m]\u001b[0m\u001b[0;34m.\u001b[0m\u001b[0mget\u001b[0m\u001b[0;34m(\u001b[0m\u001b[0;34m\"name\"\u001b[0m\u001b[0;34m,\u001b[0m \u001b[0;34m\"No location found\"\u001b[0m\u001b[0;34m)\u001b[0m\u001b[0;34m\u001b[0m\u001b[0;34m\u001b[0m\u001b[0m\n\u001b[0m\u001b[1;32m     29\u001b[0m         \u001b[0mprompt\u001b[0m \u001b[0;34m=\u001b[0m \u001b[0mgenerate_assistant_prompt\u001b[0m\u001b[0;34m(\u001b[0m\u001b[0muser_query\u001b[0m\u001b[0;34m,\u001b[0m \u001b[0mlocation\u001b[0m\u001b[0;34m=\u001b[0m\u001b[0mlocation_info\u001b[0m\u001b[0;34m)\u001b[0m\u001b[0;34m\u001b[0m\u001b[0;34m\u001b[0m\u001b[0m\n\u001b[1;32m     30\u001b[0m     \u001b[0;32melse\u001b[0m\u001b[0;34m:\u001b[0m\u001b[0;34m\u001b[0m\u001b[0;34m\u001b[0m\u001b[0m\n",
            "\u001b[0;31mAttributeError\u001b[0m: 'list' object has no attribute 'get'"
          ]
        }
      ]
    }
  ]
}