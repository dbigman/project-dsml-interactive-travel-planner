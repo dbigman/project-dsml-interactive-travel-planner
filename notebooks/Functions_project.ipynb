{
  "cells": [
    {
      "cell_type": "markdown",
      "metadata": {
        "colab_type": "text",
        "id": "view-in-github"
      },
      "source": [
        "<a href=\"https://colab.research.google.com/github/dbigman/project-dsml-interactive-travel-planner/blob/main/Functions_project.ipynb\" target=\"_parent\"><img src=\"https://colab.research.google.com/assets/colab-badge.svg\" alt=\"Open In Colab\"/></a>"
      ]
    },
    {
      "cell_type": "code",
      "execution_count": null,
      "metadata": {
        "colab": {
          "base_uri": "https://localhost:8080/"
        },
        "id": "wDA65Dzu6yN1",
        "outputId": "030e5a67-8b0f-4fd5-e0f8-c9a3c280ca2c"
      },
      "outputs": [
        {
          "name": "stdout",
          "output_type": "stream",
          "text": [
            "Mounted at /content/drive/\n"
          ]
        }
      ],
      "source": [
        "# Mount Drive\n",
        "from google.colab import drive\n",
        "drive.mount('/content/drive/')"
      ]
    },
    {
      "cell_type": "code",
      "execution_count": null,
      "metadata": {
        "id": "r77BKDur3c82"
      },
      "outputs": [],
      "source": [
        "import requests\n",
        "from datetime import datetime, timedelta\n",
        "import json\n",
        "import chromadb\n",
        "from sentence_transformers import SentenceTransformer\n"
      ]
    },
    {
      "cell_type": "markdown",
      "metadata": {
        "id": "fbhOjgOttTDR"
      },
      "source": [
        "# Functions"
      ]
    },
    {
      "cell_type": "code",
      "execution_count": null,
      "metadata": {
        "colab": {
          "base_uri": "https://localhost:8080/"
        },
        "id": "uJiSqpRItIPc",
        "outputId": "1610fd02-d503-4cd8-a4c9-85d1b6aa9a74"
      },
      "outputs": [
        {
          "name": "stdout",
          "output_type": "stream",
          "text": [
            "{'date': '2025-02-15 00:00:00', 'temperature': 23.52, 'description': 'clear sky', 'humidity': 79, 'wind_speed': 5.95}\n"
          ]
        }
      ],
      "source": [
        "API_KEY = \"f5b3be307a91026889509d3e0cbee098\"  # Replace with your API key\n",
        "BASE_URL = \"https://api.openweathermap.org/data/2.5/forecast\"\n",
        "\n",
        "def find_weather_forecast(date, location):\n",
        "    \"\"\"\n",
        "    Retrieves the weather forecast for a given date and location using OpenWeather API.\n",
        "\n",
        "    Parameters:\n",
        "    - date (str): Target date in 'YYYY-MM-DD' format.\n",
        "    - location (str): City name or \"city, country\" (e.g., \"San Juan, PR\").\n",
        "\n",
        "    Returns:\n",
        "    - dict: Weather forecast details (temperature, description, etc.).\n",
        "    \"\"\"\n",
        "    try:\n",
        "        # Get weather data\n",
        "        params = {\n",
        "            \"q\": location,\n",
        "            \"appid\": API_KEY,\n",
        "            \"units\": \"metric\",  # Use \"imperial\" for Fahrenheit\n",
        "        }\n",
        "        response = requests.get(BASE_URL, params=params)\n",
        "        data = response.json()\n",
        "\n",
        "        if response.status_code != 200:\n",
        "            return {\"error\": data.get(\"message\", \"Failed to fetch weather data\")}\n",
        "\n",
        "        # Convert input date to datetime\n",
        "        target_date = datetime.strptime(date, \"%Y-%m-%d\")\n",
        "\n",
        "        # Find the closest forecast for the given date\n",
        "        closest_forecast = None\n",
        "        min_diff = timedelta.max\n",
        "\n",
        "        for forecast in data[\"list\"]:\n",
        "            forecast_time = datetime.utcfromtimestamp(forecast[\"dt\"])\n",
        "            time_diff = abs(forecast_time - target_date)\n",
        "\n",
        "            if time_diff < min_diff:\n",
        "                min_diff = time_diff\n",
        "                closest_forecast = forecast\n",
        "\n",
        "        if closest_forecast:\n",
        "            return {\n",
        "                \"date\": closest_forecast[\"dt_txt\"],\n",
        "                \"temperature\": closest_forecast[\"main\"][\"temp\"],\n",
        "                \"description\": closest_forecast[\"weather\"][0][\"description\"],\n",
        "                \"humidity\": closest_forecast[\"main\"][\"humidity\"],\n",
        "                \"wind_speed\": closest_forecast[\"wind\"][\"speed\"],\n",
        "            }\n",
        "        else:\n",
        "            return {\"error\": \"No forecast found for the specified date\"}\n",
        "\n",
        "    except Exception as e:\n",
        "        return {\"error\": str(e)}\n",
        "\n",
        "# Example usage:\n",
        "print(find_weather_forecast(\"2025-02-15\", \"San Juan, PR\"))"
      ]
    },
    {
      "cell_type": "markdown",
      "metadata": {
        "id": "WJm5uwE66_F_"
      },
      "source": [
        "## Landmark Embeddings"
      ]
    },
    {
      "cell_type": "code",
      "execution_count": 1,
      "metadata": {
        "colab": {
          "base_uri": "https://localhost:8080/"
        },
        "id": "hNAFurWluEmR",
        "outputId": "3746955c-f93f-4dd8-ee8f-cfa7bd61fd50"
      },
      "outputs": [
        {
          "name": "stderr",
          "output_type": "stream",
          "text": [
            "c:\\Users\\dbigman\\OneDrive - SUDOC LLC\\Desktop\\GitHub\\Ironhack_bootcamp\\project-dsml-interactive-travel-planner\\.venv\\lib\\site-packages\\tqdm\\auto.py:21: TqdmWarning: IProgress not found. Please update jupyter and ipywidgets. See https://ipywidgets.readthedocs.io/en/stable/user_install.html\n",
            "  from .autonotebook import tqdm as notebook_tqdm\n",
            "Add of existing embedding ID: club_n\\xc3\\xa1utico_de_ponce\n",
            "Insert of existing embedding ID: club_n\\xc3\\xa1utico_de_ponce\n",
            "Add of existing embedding ID: dos_bocas_lake\n",
            "Insert of existing embedding ID: dos_bocas_lake\n",
            "Add of existing embedding ID: complejo_recreativo_y_cultural_la_guancha\n",
            "Insert of existing embedding ID: complejo_recreativo_y_cultural_la_guancha\n",
            "Add of existing embedding ID: ponce_historic_zone\n",
            "Insert of existing embedding ID: ponce_historic_zone\n"
          ]
        },
        {
          "name": "stdout",
          "output_type": "stream",
          "text": [
            "Landmarks stored in ChromaDB successfully!\n"
          ]
        }
      ],
      "source": [
        "import json\n",
        "import chromadb\n",
        "from sentence_transformers import SentenceTransformer\n",
        "import os\n",
        "\n",
        "# Load embedding model\n",
        "embedding_model = SentenceTransformer(\"paraphrase-MiniLM-L6-v2\")\n",
        "\n",
        "# Define ChromaDB storage path (create if it doesn't exist)\n",
        "CHROMA_DB_PATH = \"./chromadb_store\"  # Local directory\n",
        "os.makedirs(CHROMA_DB_PATH, exist_ok=True)\n",
        "\n",
        "# Initialize ChromaDB client with persistent storage\n",
        "client = chromadb.PersistentClient(path=CHROMA_DB_PATH)\n",
        "\n",
        "# Create or get collection for landmarks\n",
        "landmark_collection = client.get_or_create_collection(name=\"landmarks\")\n",
        "\n",
        "# Load landmarks data from corrected JSON file (in the same directory as the notebook)\n",
        "landmarks_json_path = \"landmarks_corrected.json\"\n",
        "\n",
        "with open(landmarks_json_path, \"r\", encoding=\"utf-8\") as file:\n",
        "    landmarks = json.load(file)\n",
        "\n",
        "# Store landmarks in ChromaDB\n",
        "for landmark in landmarks:\n",
        "    # Ensure required fields exist\n",
        "    if \"name\" not in landmark or \"description\" not in landmark:\n",
        "        print(f\"Skipping entry due to missing fields: {landmark}\")\n",
        "        continue\n",
        "\n",
        "    # Generate a unique ID from the landmark name\n",
        "    landmark_id = landmark[\"name\"].replace(\" \", \"_\").lower()\n",
        "\n",
        "    # Convert description from list to string (if needed)\n",
        "    if isinstance(landmark[\"description\"], list):\n",
        "        landmark[\"description\"] = \" \".join(landmark[\"description\"]).replace(\"\\\\n\", \" \").strip()\n",
        "\n",
        "    # Generate embedding for the landmark description\n",
        "    embedding = embedding_model.encode(landmark[\"description\"]).tolist()\n",
        "\n",
        "    # Ensure all metadata values are valid (convert None to \"Unknown\")\n",
        "    metadata = {\n",
        "        \"name\": landmark[\"name\"] if landmark[\"name\"] is not None else \"Unknown\",\n",
        "        \"description\": landmark[\"description\"] if landmark[\"description\"] is not None else \"Unknown\",\n",
        "        \"category\": landmark.get(\"category\", \"Unknown\"),\n",
        "        \"municipality\": landmark.get(\"municipality\", \"Unknown\"),\n",
        "        \"coordinates\": str(landmark[\"coordinates\"]) if landmark[\"coordinates\"] is not None else \"Unknown\",\n",
        "        \"source_file\": landmark.get(\"source_file\", \"Unknown\")\n",
        "    }\n",
        "\n",
        "    # Add to ChromaDB\n",
        "    landmark_collection.add(\n",
        "        ids=[landmark_id],\n",
        "        embeddings=[embedding],\n",
        "        metadatas=[metadata]\n",
        "    )\n",
        "\n",
        "print(\"Landmarks stored in ChromaDB successfully!\")\n"
      ]
    },
    {
      "cell_type": "markdown",
      "metadata": {
        "id": "C0NDbk85AIvr"
      },
      "source": [
        "## Municipalities Embeddings"
      ]
    },
    {
      "cell_type": "code",
      "execution_count": 2,
      "metadata": {
        "colab": {
          "base_uri": "https://localhost:8080/"
        },
        "id": "7P-biPHpAL1-",
        "outputId": "94769148-899a-4f8c-f315-de7bb02a6f21"
      },
      "outputs": [
        {
          "name": "stderr",
          "output_type": "stream",
          "text": [
            "2025-02-12 01:07:24,108 - INFO - Loading embedding model...\n",
            "2025-02-12 01:07:24,112 - INFO - Use pytorch device_name: cpu\n",
            "2025-02-12 01:07:24,112 - INFO - Load pretrained SentenceTransformer: paraphrase-MiniLM-L6-v2\n",
            "2025-02-12 01:07:26,072 - INFO - Embedding model loaded successfully.\n",
            "2025-02-12 01:07:26,073 - INFO - ChromaDB storage directory ensured at ./chromadb_store.\n",
            "2025-02-12 01:07:26,079 - INFO - ChromaDB PersistentClient initialized successfully.\n",
            "2025-02-12 01:07:26,089 - INFO - Municipalities collection retrieved/created successfully.\n",
            "2025-02-12 01:07:26,091 - INFO - Loaded 78 municipalities from JSON file.\n",
            "Batches: 100%|██████████| 1/1 [00:00<00:00, 33.30it/s]\n",
            "2025-02-12 01:07:26,178 - INFO - Municipality 'Adjuntas, Puerto Rico' stored in ChromaDB successfully.\n",
            "Batches: 100%|██████████| 1/1 [00:00<00:00, 52.58it/s]\n",
            "2025-02-12 01:07:26,207 - INFO - Municipality 'Aguada, Puerto Rico' stored in ChromaDB successfully.\n",
            "Batches: 100%|██████████| 1/1 [00:00<00:00, 47.58it/s]\n",
            "2025-02-12 01:07:26,241 - INFO - Municipality 'Aguadilla, Puerto Rico' stored in ChromaDB successfully.\n",
            "Batches: 100%|██████████| 1/1 [00:00<00:00, 29.39it/s]\n",
            "2025-02-12 01:07:26,288 - INFO - Municipality 'Aguas Buenas, Puerto Rico' stored in ChromaDB successfully.\n",
            "Batches: 100%|██████████| 1/1 [00:00<00:00, 45.41it/s]\n",
            "2025-02-12 01:07:26,322 - INFO - Municipality 'Aibonito, Puerto Rico' stored in ChromaDB successfully.\n",
            "Batches: 100%|██████████| 1/1 [00:00<00:00, 52.58it/s]\n",
            "2025-02-12 01:07:26,353 - INFO - Municipality 'Arecibo, Puerto Rico' stored in ChromaDB successfully.\n",
            "Batches: 100%|██████████| 1/1 [00:00<00:00, 47.58it/s]\n",
            "2025-02-12 01:07:26,386 - INFO - Municipality 'Arroyo, Puerto Rico' stored in ChromaDB successfully.\n",
            "Batches: 100%|██████████| 1/1 [00:00<00:00, 124.89it/s]\n",
            "2025-02-12 01:07:26,405 - INFO - Municipality 'Añasco, Puerto Rico' stored in ChromaDB successfully.\n",
            "Batches: 100%|██████████| 1/1 [00:00<00:00, 124.87it/s]\n",
            "2025-02-12 01:07:26,425 - INFO - Municipality 'Barceloneta, Puerto Rico' stored in ChromaDB successfully.\n",
            "Batches: 100%|██████████| 1/1 [00:00<00:00, 124.89it/s]\n",
            "2025-02-12 01:07:26,445 - INFO - Municipality 'Barranquitas, Puerto Rico' stored in ChromaDB successfully.\n",
            "Batches: 100%|██████████| 1/1 [00:00<00:00, 142.72it/s]\n",
            "2025-02-12 01:07:26,464 - INFO - Municipality 'Bayamn, Puerto Rico' stored in ChromaDB successfully.\n",
            "Batches: 100%|██████████| 1/1 [00:00<00:00, 124.89it/s]\n",
            "2025-02-12 01:07:26,485 - INFO - Municipality 'Cabo Rojo, Puerto Rico' stored in ChromaDB successfully.\n",
            "Batches: 100%|██████████| 1/1 [00:00<00:00, 142.73it/s]\n",
            "2025-02-12 01:07:26,503 - INFO - Municipality 'Caguas, Puerto Rico' stored in ChromaDB successfully.\n",
            "Batches: 100%|██████████| 1/1 [00:00<00:00, 124.89it/s]\n",
            "2025-02-12 01:07:26,522 - INFO - Municipality 'Camuy, Puerto Rico' stored in ChromaDB successfully.\n",
            "Batches: 100%|██████████| 1/1 [00:00<00:00, 142.74it/s]\n",
            "2025-02-12 01:07:26,541 - INFO - Municipality 'Canvanas, Puerto Rico' stored in ChromaDB successfully.\n",
            "Batches: 100%|██████████| 1/1 [00:00<00:00, 166.52it/s]\n",
            "2025-02-12 01:07:26,559 - INFO - Municipality 'Carolina, Puerto Rico' stored in ChromaDB successfully.\n",
            "Batches: 100%|██████████| 1/1 [00:00<00:00, 166.51it/s]\n",
            "2025-02-12 01:07:26,577 - INFO - Municipality 'Cataño, Puerto Rico' stored in ChromaDB successfully.\n",
            "Batches: 100%|██████████| 1/1 [00:00<00:00, 142.72it/s]\n",
            "2025-02-12 01:07:26,595 - INFO - Municipality 'Cayey, Puerto Rico' stored in ChromaDB successfully.\n",
            "Batches: 100%|██████████| 1/1 [00:00<00:00, 142.71it/s]\n",
            "2025-02-12 01:07:26,612 - INFO - Municipality 'Ceiba, Puerto Rico' stored in ChromaDB successfully.\n",
            "Batches: 100%|██████████| 1/1 [00:00<00:00, 142.75it/s]\n",
            "2025-02-12 01:07:26,631 - INFO - Municipality 'Ciales, Puerto Rico' stored in ChromaDB successfully.\n",
            "Batches: 100%|██████████| 1/1 [00:00<00:00, 142.71it/s]\n",
            "2025-02-12 01:07:26,649 - INFO - Municipality 'Cidra, Puerto Rico' stored in ChromaDB successfully.\n",
            "Batches: 100%|██████████| 1/1 [00:00<00:00, 142.71it/s]\n",
            "2025-02-12 01:07:26,669 - INFO - Municipality 'Coamo, Puerto Rico' stored in ChromaDB successfully.\n",
            "Batches: 100%|██████████| 1/1 [00:00<00:00, 52.58it/s]\n",
            "2025-02-12 01:07:26,720 - INFO - Municipality 'Comero, Puerto Rico' stored in ChromaDB successfully.\n",
            "Batches: 100%|██████████| 1/1 [00:00<00:00, 45.41it/s]\n",
            "2025-02-12 01:07:26,757 - INFO - Municipality 'Corozal, Puerto Rico' stored in ChromaDB successfully.\n",
            "Batches: 100%|██████████| 1/1 [00:00<00:00, 45.41it/s]\n",
            "2025-02-12 01:07:26,795 - INFO - Municipality 'Culebra, Puerto Rico' stored in ChromaDB successfully.\n",
            "Batches: 100%|██████████| 1/1 [00:00<00:00, 17.84it/s]\n",
            "2025-02-12 01:07:26,864 - INFO - Municipality 'Dorado, Puerto Rico' stored in ChromaDB successfully.\n",
            "Batches: 100%|██████████| 1/1 [00:00<00:00, 27.75it/s]\n",
            "2025-02-12 01:07:26,914 - INFO - Municipality 'Fajardo, Puerto Rico' stored in ChromaDB successfully.\n",
            "Batches: 100%|██████████| 1/1 [00:00<00:00, 43.44it/s]\n",
            "2025-02-12 01:07:26,951 - INFO - Municipality 'Florida, Puerto Rico' stored in ChromaDB successfully.\n",
            "Batches: 100%|██████████| 1/1 [00:00<00:00, 124.88it/s]\n",
            "2025-02-12 01:07:26,971 - INFO - Municipality 'Guayama, Puerto Rico' stored in ChromaDB successfully.\n",
            "Batches: 100%|██████████| 1/1 [00:00<00:00, 142.73it/s]\n",
            "2025-02-12 01:07:26,989 - INFO - Municipality 'Guayanilla, Puerto Rico' stored in ChromaDB successfully.\n",
            "Batches: 100%|██████████| 1/1 [00:00<00:00, 142.74it/s]\n",
            "2025-02-12 01:07:27,008 - INFO - Municipality 'Guaynabo, Puerto Rico' stored in ChromaDB successfully.\n",
            "Batches: 100%|██████████| 1/1 [00:00<00:00, 49.96it/s]\n",
            "2025-02-12 01:07:27,039 - INFO - Municipality 'Gurabo, Puerto Rico' stored in ChromaDB successfully.\n",
            "Batches: 100%|██████████| 1/1 [00:00<00:00, 142.73it/s]\n",
            "2025-02-12 01:07:27,057 - INFO - Municipality 'Gunica, Puerto Rico' stored in ChromaDB successfully.\n",
            "Batches: 100%|██████████| 1/1 [00:00<00:00, 166.52it/s]\n",
            "2025-02-12 01:07:27,076 - INFO - Municipality 'Hatillo, Puerto Rico' stored in ChromaDB successfully.\n",
            "Batches: 100%|██████████| 1/1 [00:00<00:00, 49.95it/s]\n",
            "2025-02-12 01:07:27,107 - INFO - Municipality 'Hormigueros, Puerto Rico' stored in ChromaDB successfully.\n",
            "Batches: 100%|██████████| 1/1 [00:00<00:00, 142.73it/s]\n",
            "2025-02-12 01:07:27,128 - INFO - Municipality 'Humacao, Puerto Rico' stored in ChromaDB successfully.\n",
            "Batches: 100%|██████████| 1/1 [00:00<00:00, 124.89it/s]\n",
            "2025-02-12 01:07:27,148 - INFO - Municipality 'Isabela, Puerto Rico' stored in ChromaDB successfully.\n",
            "Batches: 100%|██████████| 1/1 [00:00<00:00, 47.57it/s]\n",
            "2025-02-12 01:07:27,180 - INFO - Municipality 'Jayuya, Puerto Rico' stored in ChromaDB successfully.\n",
            "Batches: 100%|██████████| 1/1 [00:00<00:00, 124.88it/s]\n",
            "2025-02-12 01:07:27,199 - INFO - Municipality 'Juana Daz, Puerto Rico' stored in ChromaDB successfully.\n",
            "Batches: 100%|██████████| 1/1 [00:00<00:00, 111.01it/s]\n",
            "2025-02-12 01:07:27,220 - INFO - Municipality 'Juncos, Puerto Rico' stored in ChromaDB successfully.\n",
            "Batches: 100%|██████████| 1/1 [00:00<00:00, 111.01it/s]\n",
            "2025-02-12 01:07:27,240 - INFO - Municipality 'Lajas, Puerto Rico' stored in ChromaDB successfully.\n",
            "Batches: 100%|██████████| 1/1 [00:00<00:00, 124.89it/s]\n",
            "2025-02-12 01:07:27,259 - INFO - Municipality 'Lares, Puerto Rico' stored in ChromaDB successfully.\n",
            "Batches: 100%|██████████| 1/1 [00:00<00:00, 142.74it/s]\n",
            "2025-02-12 01:07:27,280 - INFO - Municipality 'Las Maras, Puerto Rico' stored in ChromaDB successfully.\n",
            "Batches: 100%|██████████| 1/1 [00:00<00:00, 111.01it/s]\n",
            "2025-02-12 01:07:27,302 - INFO - Municipality 'Las Piedras, Puerto Rico' stored in ChromaDB successfully.\n",
            "Batches: 100%|██████████| 1/1 [00:00<00:00, 124.89it/s]\n",
            "2025-02-12 01:07:27,322 - INFO - Municipality 'Loza, Puerto Rico' stored in ChromaDB successfully.\n",
            "Batches: 100%|██████████| 1/1 [00:00<00:00, 142.73it/s]\n",
            "2025-02-12 01:07:27,343 - INFO - Municipality 'Luquillo, Puerto Rico' stored in ChromaDB successfully.\n",
            "Batches: 100%|██████████| 1/1 [00:00<00:00, 124.89it/s]\n",
            "2025-02-12 01:07:27,364 - INFO - Municipality 'Manat, Puerto Rico' stored in ChromaDB successfully.\n",
            "Batches: 100%|██████████| 1/1 [00:00<00:00, 47.57it/s]\n",
            "2025-02-12 01:07:27,399 - INFO - Municipality 'Maricao, Puerto Rico' stored in ChromaDB successfully.\n",
            "Batches: 100%|██████████| 1/1 [00:00<00:00, 83.26it/s]\n",
            "2025-02-12 01:07:27,423 - INFO - Municipality 'Maunabo, Puerto Rico' stored in ChromaDB successfully.\n",
            "Batches: 100%|██████████| 1/1 [00:00<00:00, 124.89it/s]\n",
            "2025-02-12 01:07:27,445 - INFO - Municipality 'Mayagez, Puerto Rico' stored in ChromaDB successfully.\n",
            "Batches: 100%|██████████| 1/1 [00:00<00:00, 95.06it/s]\n",
            "2025-02-12 01:07:27,469 - INFO - Municipality 'Moca, Puerto Rico' stored in ChromaDB successfully.\n",
            "Batches: 100%|██████████| 1/1 [00:00<00:00, 90.82it/s]\n",
            "2025-02-12 01:07:27,494 - INFO - Municipality 'Morovis, Puerto Rico' stored in ChromaDB successfully.\n",
            "Batches: 100%|██████████| 1/1 [00:00<00:00, 142.74it/s]\n",
            "2025-02-12 01:07:27,513 - INFO - Municipality 'Naguabo, Puerto Rico' stored in ChromaDB successfully.\n",
            "Batches: 100%|██████████| 1/1 [00:00<00:00, 124.89it/s]\n",
            "2025-02-12 01:07:27,534 - INFO - Municipality 'Naranjito, Puerto Rico' stored in ChromaDB successfully.\n",
            "Batches: 100%|██████████| 1/1 [00:00<00:00, 111.01it/s]\n",
            "2025-02-12 01:07:27,555 - INFO - Municipality 'Orocovis, Puerto Rico' stored in ChromaDB successfully.\n",
            "Batches: 100%|██████████| 1/1 [00:00<00:00, 142.73it/s]\n",
            "2025-02-12 01:07:27,576 - INFO - Municipality 'Patillas, Puerto Rico' stored in ChromaDB successfully.\n",
            "Batches: 100%|██████████| 1/1 [00:00<00:00, 142.72it/s]\n",
            "2025-02-12 01:07:27,598 - INFO - Municipality 'Peñuelas, Puerto Rico' stored in ChromaDB successfully.\n",
            "Batches: 100%|██████████| 1/1 [00:00<00:00, 124.89it/s]\n",
            "2025-02-12 01:07:27,619 - INFO - Municipality 'Ponce, Puerto Rico' stored in ChromaDB successfully.\n",
            "Batches: 100%|██████████| 1/1 [00:00<00:00, 124.89it/s]\n",
            "2025-02-12 01:07:27,640 - INFO - Municipality 'Quebradillas, Puerto Rico' stored in ChromaDB successfully.\n",
            "Batches: 100%|██████████| 1/1 [00:00<00:00, 142.73it/s]\n",
            "2025-02-12 01:07:27,660 - INFO - Municipality 'Rincn, Puerto Rico' stored in ChromaDB successfully.\n",
            "Batches: 100%|██████████| 1/1 [00:00<00:00, 166.51it/s]\n",
            "2025-02-12 01:07:27,678 - INFO - Municipality 'Ro Grande, Puerto Rico' stored in ChromaDB successfully.\n",
            "Batches: 100%|██████████| 1/1 [00:00<00:00, 142.73it/s]\n",
            "2025-02-12 01:07:27,696 - INFO - Municipality 'Sabana Grande, Puerto Rico' stored in ChromaDB successfully.\n",
            "Batches: 100%|██████████| 1/1 [00:00<00:00, 166.50it/s]\n",
            "2025-02-12 01:07:27,714 - INFO - Municipality 'Salinas, Puerto Rico' stored in ChromaDB successfully.\n",
            "Batches: 100%|██████████| 1/1 [00:00<00:00, 124.88it/s]\n",
            "2025-02-12 01:07:27,740 - INFO - Municipality 'San Germn, Puerto Rico' stored in ChromaDB successfully.\n",
            "Batches: 100%|██████████| 1/1 [00:00<00:00, 90.83it/s]\n",
            "2025-02-12 01:07:27,764 - INFO - Municipality 'San Juan, Puerto Rico' stored in ChromaDB successfully.\n",
            "Batches: 100%|██████████| 1/1 [00:00<00:00, 46.56it/s]\n",
            "2025-02-12 01:07:27,798 - INFO - Municipality 'San Lorenzo, Puerto Rico' stored in ChromaDB successfully.\n",
            "Batches: 100%|██████████| 1/1 [00:00<00:00, 101.11it/s]\n",
            "2025-02-12 01:07:27,820 - INFO - Municipality 'San Sebastin, Puerto Rico' stored in ChromaDB successfully.\n",
            "Batches: 100%|██████████| 1/1 [00:00<00:00, 46.75it/s]\n",
            "2025-02-12 01:07:27,852 - INFO - Municipality 'Santa Isabel, Puerto Rico' stored in ChromaDB successfully.\n",
            "Batches: 100%|██████████| 1/1 [00:00<00:00, 115.27it/s]\n",
            "2025-02-12 01:07:27,871 - INFO - Municipality 'Toa Alta, Puerto Rico' stored in ChromaDB successfully.\n",
            "Batches: 100%|██████████| 1/1 [00:00<00:00, 102.76it/s]\n",
            "2025-02-12 01:07:27,890 - INFO - Municipality 'Toa Baja, Puerto Rico' stored in ChromaDB successfully.\n",
            "Batches: 100%|██████████| 1/1 [00:00<00:00, 149.43it/s]\n",
            "2025-02-12 01:07:27,910 - INFO - Municipality 'Trujillo Alto, Puerto Rico' stored in ChromaDB successfully.\n",
            "Batches: 100%|██████████| 1/1 [00:00<00:00, 138.73it/s]\n",
            "2025-02-12 01:07:27,928 - INFO - Municipality 'Utuado, Puerto Rico' stored in ChromaDB successfully.\n",
            "Batches: 100%|██████████| 1/1 [00:00<00:00, 130.10it/s]\n",
            "2025-02-12 01:07:27,947 - INFO - Municipality 'Vega Alta, Puerto Rico' stored in ChromaDB successfully.\n",
            "Batches: 100%|██████████| 1/1 [00:00<00:00, 142.72it/s]\n",
            "2025-02-12 01:07:27,966 - INFO - Municipality 'Vega Baja, Puerto Rico' stored in ChromaDB successfully.\n",
            "Batches: 100%|██████████| 1/1 [00:00<00:00, 124.89it/s]\n",
            "2025-02-12 01:07:27,986 - INFO - Municipality 'Vieques, Puerto Rico' stored in ChromaDB successfully.\n",
            "Batches: 100%|██████████| 1/1 [00:00<00:00, 142.71it/s]\n",
            "2025-02-12 01:07:28,005 - INFO - Municipality 'Villalba, Puerto Rico' stored in ChromaDB successfully.\n",
            "Batches: 100%|██████████| 1/1 [00:00<00:00, 142.72it/s]\n",
            "2025-02-12 01:07:28,024 - INFO - Municipality 'Yabucoa, Puerto Rico' stored in ChromaDB successfully.\n",
            "Batches: 100%|██████████| 1/1 [00:00<00:00, 124.88it/s]\n",
            "2025-02-12 01:07:28,044 - INFO - Municipality 'Yauco, Puerto Rico' stored in ChromaDB successfully.\n",
            "2025-02-12 01:07:28,045 - INFO - All municipalities stored in ChromaDB successfully!\n"
          ]
        }
      ],
      "source": [
        "import os\n",
        "import json\n",
        "import logging\n",
        "import chromadb\n",
        "from sentence_transformers import SentenceTransformer\n",
        "\n",
        "# Configure logging\n",
        "logging.basicConfig(\n",
        "    level=logging.INFO,\n",
        "    format=\"%(asctime)s - %(levelname)s - %(message)s\"\n",
        ")\n",
        "\n",
        "logging.info(\"Loading embedding model...\")\n",
        "embedding_model = SentenceTransformer(\"paraphrase-MiniLM-L6-v2\")\n",
        "logging.info(\"Embedding model loaded successfully.\")\n",
        "\n",
        "# Define ChromaDB storage path (local directory)\n",
        "CHROMA_DB_PATH = \"./chromadb_store\"\n",
        "os.makedirs(CHROMA_DB_PATH, exist_ok=True)\n",
        "logging.info(f\"ChromaDB storage directory ensured at {CHROMA_DB_PATH}.\")\n",
        "\n",
        "# Initialize ChromaDB client with persistent storage\n",
        "try:\n",
        "    client = chromadb.PersistentClient(path=CHROMA_DB_PATH)\n",
        "    logging.info(\"ChromaDB PersistentClient initialized successfully.\")\n",
        "except Exception as e:\n",
        "    logging.error(f\"Error initializing ChromaDB PersistentClient: {e}\")\n",
        "    raise\n",
        "\n",
        "# Create or get collection for municipalities\n",
        "try:\n",
        "    municipality_collection = client.get_or_create_collection(name=\"municipalities\")\n",
        "    logging.info(\"Municipalities collection retrieved/created successfully.\")\n",
        "except Exception as e:\n",
        "    logging.error(f\"Error getting or creating municipalities collection: {e}\")\n",
        "    raise\n",
        "\n",
        "# Load municipalities data from JSON file\n",
        "json_file_path = \"./municipalities_corrected.json\"  # Update path if needed\n",
        "try:\n",
        "    with open(json_file_path, \"r\", encoding=\"utf-8\") as file:\n",
        "        municipalities = json.load(file)\n",
        "    logging.info(f\"Loaded {len(municipalities)} municipalities from JSON file.\")\n",
        "except FileNotFoundError:\n",
        "    logging.error(f\"Municipalities JSON file not found at {json_file_path}.\")\n",
        "    raise\n",
        "except json.JSONDecodeError as e:\n",
        "    logging.error(f\"Error decoding JSON file: {e}\")\n",
        "    raise\n",
        "\n",
        "# Store municipalities in ChromaDB\n",
        "for municipality in municipalities:\n",
        "    # Ensure required fields exist\n",
        "    if \"name\" not in municipality or \"description\" not in municipality:\n",
        "        logging.warning(f\"Skipping entry due to missing fields: {municipality}\")\n",
        "        continue\n",
        "\n",
        "    # Generate a unique ID from the municipality name\n",
        "    municipality_id = municipality[\"name\"].replace(\" \", \"_\").lower()\n",
        "\n",
        "    # Convert description from list to string if needed\n",
        "    if isinstance(municipality[\"description\"], list):\n",
        "        municipality[\"description\"] = \" \".join(municipality[\"description\"]).replace(\"\\\\n\", \" \").strip()\n",
        "\n",
        "    # Generate embedding for the municipality description\n",
        "    try:\n",
        "        embedding = embedding_model.encode(municipality[\"description\"]).tolist()\n",
        "    except Exception as e:\n",
        "        logging.error(f\"Error generating embedding for {municipality['name']}: {e}\")\n",
        "        continue\n",
        "\n",
        "    # Prepare metadata and ensure all values are valid (convert None to \"Unknown\")\n",
        "    metadata = {\n",
        "        \"name\": municipality.get(\"name\") or \"Unknown\",\n",
        "        \"description\": municipality.get(\"description\") or \"Unknown\",\n",
        "        \"category\": municipality.get(\"category\") or \"Municipality\",\n",
        "        \"coordinates\": str(municipality.get(\"coordinates\")) if municipality.get(\"coordinates\") is not None else \"Unknown\",\n",
        "        \"source_file\": municipality.get(\"source_file\") or \"Unknown\"\n",
        "    }\n",
        "\n",
        "    # Add the record to ChromaDB\n",
        "    try:\n",
        "        municipality_collection.add(\n",
        "            ids=[municipality_id],\n",
        "            embeddings=[embedding],\n",
        "            metadatas=[metadata]\n",
        "        )\n",
        "        logging.info(f\"Municipality '{municipality['name']}' stored in ChromaDB successfully.\")\n",
        "    except Exception as e:\n",
        "        logging.error(f\"Failed to add municipality '{municipality['name']}' to ChromaDB: {e}\")\n",
        "\n",
        "logging.info(\"All municipalities stored in ChromaDB successfully!\")\n"
      ]
    },
    {
      "cell_type": "markdown",
      "metadata": {
        "id": "CYrEScm391kN"
      },
      "source": [
        "## Appropriate location function"
      ]
    },
    {
      "cell_type": "code",
      "execution_count": 3,
      "metadata": {
        "id": "vCuLfmD49n-O"
      },
      "outputs": [],
      "source": [
        "def rank_appropriate_locations(user_prompt, top_k=5):\n",
        "    \"\"\"\n",
        "    Finds and ranks appropriate landmarks based on user input.\n",
        "\n",
        "    Args:\n",
        "        user_prompt (str): The user's interest (e.g., \"I love the beach and history\").\n",
        "        top_k (int): Number of top results to return.\n",
        "\n",
        "    Returns:\n",
        "        List of top_k ranked locations.\n",
        "    \"\"\"\n",
        "    # Ensure ChromaDB is initialized\n",
        "    global landmark_collection  # Ensure we're using the same collection\n",
        "\n",
        "    # Convert user prompt into an embedding\n",
        "    user_embedding = embedding_model.encode(user_prompt).tolist()\n",
        "\n",
        "    # Retrieve top relevant locations using similarity search\n",
        "    search_results = landmark_collection.query(\n",
        "        query_embeddings=[user_embedding],\n",
        "        n_results=top_k\n",
        "    )\n",
        "\n",
        "    # Extract matched locations\n",
        "    ranked_locations = [\n",
        "        {\n",
        "            \"name\": metadata[\"name\"],\n",
        "            \"description\": metadata[\"description\"],\n",
        "            \"category\": metadata[\"category\"],\n",
        "            \"municipality\": metadata[\"municipality\"],\n",
        "            \"score\": score  # Similarity score\n",
        "        }\n",
        "        for metadata, score in zip(search_results[\"metadatas\"][0], search_results[\"distances\"][0])\n",
        "    ]\n",
        "\n",
        "    return ranked_locations"
      ]
    },
    {
      "cell_type": "markdown",
      "metadata": {
        "id": "PkwEVB_c96ac"
      },
      "source": [
        "## Apropriate location test"
      ]
    },
    {
      "cell_type": "code",
      "execution_count": 1,
      "metadata": {
        "colab": {
          "base_uri": "https://localhost:8080/"
        },
        "id": "CgvKKa-k99Ry",
        "outputId": "ad330f3c-b508-424c-852c-f48a4796a8f0"
      },
      "outputs": [
        {
          "ename": "NameError",
          "evalue": "name 'rank_appropriate_locations' is not defined",
          "output_type": "error",
          "traceback": [
            "\u001b[1;31m---------------------------------------------------------------------------\u001b[0m",
            "\u001b[1;31mNameError\u001b[0m                                 Traceback (most recent call last)",
            "Cell \u001b[1;32mIn[1], line 2\u001b[0m\n\u001b[0;32m      1\u001b[0m user_prompt \u001b[38;5;241m=\u001b[39m \u001b[38;5;124m\"\u001b[39m\u001b[38;5;124mI like long walks in nature\u001b[39m\u001b[38;5;124m\"\u001b[39m\n\u001b[1;32m----> 2\u001b[0m top_recommendations \u001b[38;5;241m=\u001b[39m \u001b[43mrank_appropriate_locations\u001b[49m(user_prompt)\n\u001b[0;32m      4\u001b[0m \u001b[38;5;28;01mfor\u001b[39;00m idx, place \u001b[38;5;129;01min\u001b[39;00m \u001b[38;5;28menumerate\u001b[39m(top_recommendations, \u001b[38;5;241m1\u001b[39m):\n\u001b[0;32m      5\u001b[0m     \u001b[38;5;28mprint\u001b[39m(\u001b[38;5;124mf\u001b[39m\u001b[38;5;124m\"\u001b[39m\u001b[38;5;132;01m{\u001b[39;00midx\u001b[38;5;132;01m}\u001b[39;00m\u001b[38;5;124m. \u001b[39m\u001b[38;5;132;01m{\u001b[39;00mplace[\u001b[38;5;124m'\u001b[39m\u001b[38;5;124mname\u001b[39m\u001b[38;5;124m'\u001b[39m]\u001b[38;5;132;01m}\u001b[39;00m\u001b[38;5;124m (\u001b[39m\u001b[38;5;132;01m{\u001b[39;00mplace[\u001b[38;5;124m'\u001b[39m\u001b[38;5;124mcategory\u001b[39m\u001b[38;5;124m'\u001b[39m]\u001b[38;5;132;01m}\u001b[39;00m\u001b[38;5;124m) - \u001b[39m\u001b[38;5;132;01m{\u001b[39;00mplace[\u001b[38;5;124m'\u001b[39m\u001b[38;5;124mmunicipality\u001b[39m\u001b[38;5;124m'\u001b[39m]\u001b[38;5;132;01m}\u001b[39;00m\u001b[38;5;124m\"\u001b[39m)\n",
            "\u001b[1;31mNameError\u001b[0m: name 'rank_appropriate_locations' is not defined"
          ]
        }
      ],
      "source": [
        "user_prompt = \"I like long walks in nature\"\n",
        "top_recommendations = rank_appropriate_locations(user_prompt)\n",
        "\n",
        "for idx, place in enumerate(top_recommendations, 1):\n",
        "    print(f\"{idx}. {place['name']} ({place['category']}) - {place['municipality']}\")\n",
        "    print(f\"   Score: {place['score']:.4f}\")\n",
        "    print(f\"   {place['description']}\\n\")"
      ]
    },
    {
      "cell_type": "markdown",
      "metadata": {
        "id": "MwdsaFRY-JL_"
      },
      "source": [
        "## Find info on location"
      ]
    },
    {
      "cell_type": "code",
      "execution_count": 9,
      "metadata": {
        "id": "bgZyrVRQ-ONa"
      },
      "outputs": [],
      "source": [
        "def find_info_on_location(user_prompt, location, top_k=3):\n",
        "    \"\"\"\n",
        "    Retrieves relevant information about a given location based on user query.\n",
        "\n",
        "    Args:\n",
        "        user_prompt (str): The user's specific request (e.g., \"Tell me about the history of Old San Juan\").\n",
        "        location (str): The location for which the user wants information.\n",
        "        top_k (int): Number of top results to return.\n",
        "\n",
        "    Returns:\n",
        "        List of relevant document excerpts.\n",
        "    \"\"\"\n",
        "    # Ensure ChromaDB is initialized\n",
        "    global landmark_collection\n",
        "\n",
        "    # Encode user query into an embedding\n",
        "    query_embedding = embedding_model.encode(f\"{user_prompt} about {location}\").tolist()\n",
        "\n",
        "    # Search for relevant information in ChromaDB\n",
        "    search_results = landmark_collection.query(\n",
        "        query_embeddings=[query_embedding],\n",
        "        n_results=top_k\n",
        "    )\n",
        "\n",
        "    # Extract matched documents\n",
        "    relevant_info = [\n",
        "        {\n",
        "            \"name\": metadata[\"name\"],\n",
        "            \"description\": metadata[\"description\"],\n",
        "            \"category\": metadata[\"category\"],\n",
        "            \"municipality\": metadata[\"municipality\"],\n",
        "            \"score\": score  # Similarity score\n",
        "        }\n",
        "        for metadata, score in zip(search_results[\"metadatas\"][0], search_results[\"distances\"][0])\n",
        "        if location.lower() in metadata[\"name\"].lower()  # Filter by location name\n",
        "    ]\n",
        "\n",
        "    return relevant_info"
      ]
    },
    {
      "cell_type": "markdown",
      "metadata": {
        "id": "4X21ssdd_Wsm"
      },
      "source": [
        "## Find info on location test"
      ]
    },
    {
      "cell_type": "code",
      "execution_count": 12,
      "metadata": {
        "colab": {
          "base_uri": "https://localhost:8080/"
        },
        "id": "4Gl6DEse_Udx",
        "outputId": "0d1b8e18-7834-4290-8568-dee8ac5511d3"
      },
      "outputs": [
        {
          "name": "stderr",
          "output_type": "stream",
          "text": [
            "Batches: 100%|██████████| 1/1 [00:00<00:00, 83.26it/s]"
          ]
        },
        {
          "name": "stdout",
          "output_type": "stream",
          "text": [
            "1. Antiguo Hospital Militar Espa\\xc3\\xb1ol de Ponce (Landmark) - Unknown\n",
            "   Score: 25.2957\n",
            "   [\"The Antiguo Hospital Militar Español de Ponce (English: Old Spanish Military Hospital in Ponce) is a historic building in Ponce, Puerto Rico, in the city's historic district. The building dates from 1896 or 1897. It was designed by the Spanish Royal Corps of Engineers. The architecture consists of 19th Neoclassical architecture style. The building is of architectural significance since it is the only one-story building of this style remaining in the city of Ponce and one of the best examples on the Island. Completed in 1897, the year before the Spanish–American War of 1898, this building was the last major construction undergone by the Spanish Government in the Americas. From 1905 to the mid-1970s, the structure served as the Asilo de Ciegos de Ponce (Ponce Blind Asylum). As of 2020, the building sits abandoned.\", \"The structure commonly known as the Asilo de Ciegos (Home of the Blind) was built between 1896 and 1897 to serve as a hospital for the city of Ponce's military garrison. The Royal Spanish Engineering Corps constructed this building in the then-popular neoclassic style, which was common to the old San Juan area but was not at the time prevalent in Ponce. This building, together with El Castillo (Ponce's Spanish military headquarters), Hospital Tricoche (Ponce's Municipal Hospital), and the Casa Alcaldía are the only remaining buildings representative of the Spanish Crown's interest in other areas of the Island besides San Juan.\"]\n",
            "\n",
            "2. Antiguo Cuartel Militar Espa\\xc3\\xb1ol de Ponce (Landmark) - Unknown\n",
            "   Score: 26.0566\n",
            "   The Antiguo Cuartel Militar Español de Ponce or \"El Castillo\" (English: Old Spanish Military Headquarters in Ponce or \"The Castle\") is the only structure directly related to the events of the land defense of Puerto Rico during the 1898 American invasion of the Island. The historic building dates from 1894 and is located on Calle Castillo in Ponce, Puerto Rico, in the city's historic district. The structure was listed on the U.S. National Register of Historic Places on 14 May 1987. \"El Castillo,\" as this building is commonly known, was built in 1894 by the Spanish Royal Corps of Engineers as general headquarters for the Spanish military garrison stationed in Ponce. Since 1898, when Puerto Rico became a possession of the United States, this structure has served various purposes, first as courthouse and later as district jailhouse. It was being used as a district jailhouse in 1987. In the late 1980s, it ceased to be used as a district jail, was reconditioned, and in 1992 it was inaugurated as the headquarters of the Ponce School of Fine Arts, which is its current role.\n",
            "\n",
            "3. Museo de la Historia de Ponce (Landmark) - Unknown\n",
            "   Score: 26.7252\n",
            "   [\"The Museo de la Historia de Ponce (Museum of the History of Ponce) is a local history museum located in the historic Casa Salazar-Candal in the city of Ponce, Puerto Rico. The museum depicts the city's ecology, economy, architecture, government, and elements of daily life. It seeks to promote the research, conservation, and dissemination of the historic heritage of Ponce and Puerto Rico. [6]\",\"Inaugurated on 12 December 1992, [7] it was the first museum in Puerto Rico established to cover the history of the people of a town or city. [8] It traces the city's history from the Taino Indians to today. The museum was inaugurated under the administration of Mayor Rafael Cordero Santiago, as part of the tricentennial celebration of the founding of the city. [9]\"]\n",
            "\n"
          ]
        },
        {
          "name": "stderr",
          "output_type": "stream",
          "text": [
            "\n"
          ]
        }
      ],
      "source": [
        "user_query = \"What is the history of this place?\"\n",
        "location = \"Ponce\"\n",
        "\n",
        "info = find_info_on_location(user_query, location)\n",
        "\n",
        "for idx, entry in enumerate(info, 1):\n",
        "    print(f\"{idx}. {entry['name']} ({entry['category']}) - {entry['municipality']}\")\n",
        "    print(f\"   Score: {entry['score']:.4f}\")\n",
        "    print(f\"   {entry['description']}\\n\")\n"
      ]
    },
    {
      "cell_type": "code",
      "execution_count": null,
      "metadata": {
        "id": "6PrlmlKbGC_A"
      },
      "outputs": [],
      "source": []
    },
    {
      "cell_type": "markdown",
      "metadata": {
        "id": "kxR8lvKkHDt1"
      },
      "source": [
        "# Assembling the assistant"
      ]
    },
    {
      "cell_type": "code",
      "execution_count": 13,
      "metadata": {
        "id": "XSuGHXtAHXEZ"
      },
      "outputs": [],
      "source": [
        "# Imports\n",
        "import openai"
      ]
    },
    {
      "cell_type": "code",
      "execution_count": 36,
      "metadata": {
        "colab": {
          "base_uri": "https://localhost:8080/"
        },
        "id": "7Kj63J2AHTDA",
        "outputId": "6dadde6f-f3a9-40aa-8b1d-5a4ac1e988fb"
      },
      "outputs": [],
      "source": [
        "# api_key_path = \"/content/drive/MyDrive/IronHack_final_project/API_Key1.txt\"\n",
        "\n",
        "from dotenv import load_dotenv\n",
        "# Load environment variables from .env file\n",
        "load_dotenv()\n",
        "\n",
        "# Get OpenAI API key\n",
        "openai_api_key = os.getenv(\"OPENAI_API_KEY\")\n",
        "if not openai_api_key:\n",
        "    logging.error(\"OpenAI API key is missing! Check your .env file.\")\n",
        "    raise ValueError(\"OpenAI API key not found.\")\n",
        "\n",
        "\n",
        "\n",
        "# # Read the key from the file\n",
        "# with open(api_key_path, \"r\") as file:\n",
        "#     openai.api_key = file.read().strip()  # Strip removes any extra spaces or newlines\n",
        "\n",
        "# print(\"API Key Loaded Successfully!\")  # Just to confirm it's working"
      ]
    },
    {
      "cell_type": "code",
      "execution_count": 40,
      "metadata": {
        "id": "mhvFp3E3HGfa"
      },
      "outputs": [
        {
          "name": "stderr",
          "output_type": "stream",
          "text": [
            "2025-02-12 02:04:31,610 - INFO - Calling OpenAI API (attempt 1)...\n",
            "2025-02-12 02:04:33,633 - INFO - HTTP Request: POST https://api.openai.com/v1/chat/completions \"HTTP/1.1 200 OK\"\n",
            "2025-02-12 02:04:33,634 - INFO - Received response from OpenAI API.\n"
          ]
        },
        {
          "name": "stdout",
          "output_type": "stream",
          "text": [
            "Ponce is a city located on the southern coast of Puerto Rico. It is the island's second-largest city, known for its rich history, cultural heritage, and architectural landmarks. Ponce is often referred to as \"La Perla del Sur\" (The Pearl of the South) and is a significant center for Puerto Rican culture and commerce.\n"
          ]
        },
        {
          "name": "stderr",
          "output_type": "stream",
          "text": [
            "Batches: 100%|██████████| 1/1 [00:00<00:00, 99.92it/s]\n",
            "2025-02-12 02:04:33,655 - INFO - ChromaDB returned: {'ids': [['antiguo_casino_de_ponce', 'hotel_ponce_intercontinental', 'letras_de_ponce']], 'embeddings': None, 'documents': [[None, None, None]], 'uris': None, 'data': None, 'metadatas': [[{'category': 'Landmark', 'coordinates': \"{'latitude': None, 'longitude': None}\", 'description': 'The Antiguo Casino de Ponce (English: Old Ponce Casino), or simply the Casino de Ponce, is a historic structure, built in 1922 and located in Barrio Cuarto, Ponce, Puerto Rico. Originally built as a social club for Ponce\\'s elite, it is currently used as the premier reception center of \"The Noble City of Puerto Rico.\" The building, designed by Agustin Camilo Gonzalez in the Second Empire and Neo-Rococo styles, has a French facade and tones. It was listed in the National Register of Historic Places on 28 October 1987. It is located at the corner of Marina and Luna streets. The building has been called \"an icon of Ponce\\'s architecture, history, and identity.\" It is owned and administered by the Ponce Municipal Government. In 1936, during the Great Depression, the Casino declared bankruptcy and shut down. It subsequently had various uses: a postal office, a public health unit, tax collector\\'s office, and even a temporary city hall. In 1990, it was restored by the Ponce Municipal Government, and has since been used for high-ranking official municipal business. For example, it was here where the dinner to honor Prince of Asturias, His Majesty Felipe de Borbón, took place.\\n\\nPonce had three casinos before this one. The first Casino de Ponce was founded in 1862, on Calle Marina. It met at the location that was later (in 1911) used by Rosendo Matienzo Cintrón as his law office. The organization stopped meeting due to political quarrels between the two political factions in its membership representing groups for and against the government of Spanish General Sanz, but it reformed on 19 July 1876. This second Casino de Ponce was located on the second floor of the property owned by Don Carlos Cabrera Martinez, one of the distinguished members of the Ponce high society. Their meeting location was on an elegant structure at the northeast corner of Calle Marina and Calle Cristina, facing Plaza Las Delicias. The third Casino de Ponce reformed on 29 June 1897. It met next to Teatro La Perla, on the east side of Calle Mayor, between Calle Isabel and Calle Cristina, immediately north of the theater. It moved 25 years later, in 1922, to the pompous locale at the southeast corner of Calle Marina and Calle Luna, that is the subject of', 'municipality': 'Unknown', 'name': 'Antiguo Casino de Ponce', 'source_file': 'antiguo_casino_de_ponce.txt'}, {'category': 'Landmark', 'coordinates': \"{'latitude': -66.6207194444, 'longitude': 18.0215}\", 'description': 'The Hotel Ponce Intercontinental (also known as \"El Ponce\") is an abandoned hotel with a still existing structure at Cerro del Vigía in Ponce, Puerto Rico. The structure is considered a historic landmark and a national icon in the city of Ponce and Puerto Rico. The property is currently owned by Misla Hospitality Group, a family of local Ponce investors who bought it from CBC Development. Its architecture is classical modern. When it opened in 1960, it became the first modern hotel in the city.\\n\\nThe hotel is located in the northern section of the city of Ponce, on a hill just north of El Vigía Hill, behind Cruceta del Vigía and Castillo Serralles. The hotel had a large circular outdoor swimming pool, a ballroom named Salón Ponciana, a cocktail bar named Bar Coqu í, and a restaurant called El Cafetal. The hotel also had a casino that operated until 1973. On the top of the hotel, WRIK-TV had its transmission antenna. The hotel is on a lot measuring approximately 25 cuerdas (roughly 25 acres). The land area is 22.5 cuerdas.', 'municipality': 'Unknown', 'name': 'Hotel Ponce Intercontinental', 'source_file': 'hotel_ponce_intercontinental.txt'}, {'category': 'Landmark', 'coordinates': \"{'latitude': -66.5702388889, 'longitude': 18.0254194444}\", 'description': '[\\'The Letras de Ponce (English: Ponce letters) is a famous landmark in Barrio Sabanetas in Ponce, Puerto Rico, located southbound on PR-52 at the intersection with PR-10. The iconic monument consists of five letters that spell the name of the city P-O-N-C-E in 20-foot high (6.1 m) by 18-foot wide (5.5 m) by 12-foot deep (3.7 m) red and black letters. The letters, and its resulting sign, were designed by Carlos Rivera Villafañez, a sculptor from Ponce. The landmark is said to be \"known to every Puerto Rican.\" In 2002 the Puerto Rico Department of Transportation presented a contest for the design of a monument to be placed on State Route 52 (PR-52), at the entrance of the city of Ponce. The contest was part of what would become 97 projects of public art spread throughout Puerto Rico.\\']', 'municipality': 'Unknown', 'name': 'Letras de Ponce', 'source_file': 'letras_de_ponce.txt'}]], 'distances': [[37.800899505615234, 39.16949462890625, 39.72520065307617]], 'included': [<IncludeEnum.distances: 'distances'>, <IncludeEnum.documents: 'documents'>, <IncludeEnum.metadatas: 'metadatas'>]}\n",
            "2025-02-12 02:04:33,656 - INFO - Final prompt to query LLM: User asked about 'Antiguo Casino de Ponce'. The location is part of a large list of landmarks and municipalities in Puerto Rico. Answer the user's query related to this location: 'Where is Ponce?'.\n",
            "2025-02-12 02:04:33,657 - INFO - Calling OpenAI API (attempt 1)...\n",
            "2025-02-12 02:04:35,802 - INFO - HTTP Request: POST https://api.openai.com/v1/chat/completions \"HTTP/1.1 200 OK\"\n",
            "2025-02-12 02:04:35,804 - INFO - Received response from OpenAI API.\n"
          ]
        }
      ],
      "source": [
        "import os\n",
        "import time\n",
        "import logging\n",
        "import openai\n",
        "\n",
        "# Configure logging if not already done\n",
        "logging.basicConfig(\n",
        "    level=logging.INFO,\n",
        "    format=\"%(asctime)s - %(levelname)s - %(message)s\"\n",
        ")\n",
        "\n",
        "# Retrieve your OpenAI API key from an environment variable (or set it directly)\n",
        "openai_api_key = os.getenv(\"OPENAI_API_KEY\")\n",
        "if not openai_api_key:\n",
        "    raise ValueError(\"OpenAI API key not found. Please set the OPENAI_API_KEY environment variable.\")\n",
        "\n",
        "# Set the API key for the OpenAI package\n",
        "openai.api_key = openai_api_key\n",
        "\n",
        "def query_llm(prompt, max_retries=3):\n",
        "    \"\"\"\n",
        "    Queries the OpenAI API  with the given prompt and returns the response.\n",
        "    Retries the API call up to max_retries times if there is an error.\n",
        "    \"\"\"\n",
        "    for attempt in range(1, max_retries + 1):\n",
        "        try:\n",
        "            logging.info(\"Calling OpenAI API (attempt %s)...\", attempt)\n",
        "            client = openai.OpenAI(\n",
        "                api_key=openai_api_key,\n",
        "                base_url=\"https://api.openai.com/v1\"\n",
        "            )\n",
        "            response = client.chat.completions.create(\n",
        "                model=\"gpt-4o\",\n",
        "                messages=[{\"role\": \"user\", \"content\": prompt}],\n",
        "                temperature=0.7,\n",
        "                max_tokens=150\n",
        "            )\n",
        "            answer = response.choices[0].message.content.strip()\n",
        "            logging.info(\"Received response from OpenAI API.\")\n",
        "            return answer\n",
        "        except Exception as e:\n",
        "            logging.error(f\"Error on attempt {attempt}: {e}\")\n",
        "            time.sleep(2)  # Wait before retrying\n",
        "    raise Exception(\"Failed to query OpenAI API after several attempts.\")\n",
        "\n",
        "\n",
        "answer = query_llm('Where is Ponce?')\n",
        "print(answer)\n",
        "# Example usage in your assistant_response function\n",
        "def assistant_response(user_query):\n",
        "    \"\"\"\n",
        "    Generates an assistant response by first retrieving relevant documents and constructing a prompt.\n",
        "    Then it calls the LLM (via query_llm) to generate a response.\n",
        "    \"\"\"\n",
        "    # Assume find_relevant_documents and generate_assistant_prompt are defined as in your previous code.\n",
        "    relevant_docs = find_relevant_documents(user_query)\n",
        "    location_info = None\n",
        "\n",
        "    try:\n",
        "        if (relevant_docs and \n",
        "            relevant_docs.get(\"documents\") and \n",
        "            relevant_docs[\"documents\"][0] is not None):\n",
        "            \n",
        "            metadata_item = relevant_docs[\"metadatas\"][0]\n",
        "            # If metadata_item is a list, extract its first element\n",
        "            if isinstance(metadata_item, list):\n",
        "                if len(metadata_item) > 0:\n",
        "                    location_info = metadata_item[0].get(\"name\", \"No location found\")\n",
        "                else:\n",
        "                    logging.warning(\"Received an empty metadata list.\")\n",
        "                    location_info = \"No location found\"\n",
        "            elif isinstance(metadata_item, dict):\n",
        "                location_info = metadata_item.get(\"name\", \"No location found\")\n",
        "            else:\n",
        "                logging.warning(\"Unexpected metadata type: %s\", type(metadata_item))\n",
        "                location_info = \"No location found\"\n",
        "\n",
        "            prompt = generate_assistant_prompt(user_query, location=location_info)\n",
        "        else:\n",
        "            prompt = (f\"Sorry, I couldn't find any matching places for '{user_query}'. \"\n",
        "                      f\"Could you provide more specific information?\")\n",
        "        \n",
        "        logging.info(\"Final prompt to query LLM: %s\", prompt)\n",
        "    except Exception as e:\n",
        "        logging.error(\"Error processing relevant documents: %s\", e)\n",
        "        prompt = f\"Sorry, there was an error processing your request.\"\n",
        "\n",
        "    try:\n",
        "        response = query_llm(prompt)\n",
        "        return response\n",
        "    except Exception as e:\n",
        "        logging.error(\"Error querying LLM: %s\", e)\n",
        "        return \"Sorry, there was an error generating a response.\"\n",
        "\n",
        "response = assistant_response('Where is Ponce?') \n"
      ]
    },
    {
      "cell_type": "code",
      "execution_count": 38,
      "metadata": {
        "id": "tSoMzvPhHd5V"
      },
      "outputs": [
        {
          "name": "stderr",
          "output_type": "stream",
          "text": [
            "Batches: 100%|██████████| 1/1 [00:00<00:00, 83.26it/s]\n",
            "2025-02-12 02:00:17,218 - INFO - ChromaDB returned: {'ids': [['r\\\\xc3\\\\xado_abajo_state_forest', 'cayo_luis_pe\\\\xc3\\\\xb1a', 'laguna_cartagena_national_wildlife_refuge']], 'embeddings': None, 'documents': [[None, None, None]], 'uris': None, 'data': None, 'metadatas': [[{'category': 'Landmark', 'coordinates': \"{'latitude': None, 'longitude': None}\", 'description': \"['Rio Abajo State Forest is a forest preserve in Puerto Rico owned by the Department of Natural Resources and one of the 20 state forests on the island. It was designated a National Natural Landmark in 1980 and constitutes an area of 3,590 acres. It consists mostly of subtropical wet and moist karst forest. Mogotes and sinkholes fill the landscape. The forest preserve is located in the municipalities of Arecibo and Utuado. In addition to its ecological value, the forest also contains a number of archaeological sites. ', 'Much of the development within the forest area was made by the Civilian Conservation Corps (CCC) during the 20th century. The forest preserve was one of the five designated forests established in 1943 by the Puerto Rico Reconstruction Administration (Spanish: Administración de Reconstrucción de Puerto Rico) to preserve the remaining forested areas on the island. This forest also protects a large portion of the Arecibo River hydrological basin. The remains of the lumber roads cut by the loggers and CCC workers have now become trails. Due to its value as an ideal representation of the karstic ecosystems in Puerto Rico and the Caribbean, the state forest was designated a National Natural Landmark by the United States Department of the Interior in 1980. ', 'Río Abajo State Forest is located on rugged karstic terrain in north-central Puerto Rico, between the municipalities of Arecibo (Hato Viejo and Río Arriba) and Utuado (Caguana and Río Abajo). ']\", 'municipality': 'Unknown', 'name': 'R\\\\xc3\\\\xado Abajo State Forest', 'source_file': 'río_abajo_state_forest.txt'}, {'category': 'Landmark', 'coordinates': \"{'latitude': None, 'longitude': None}\", 'description': 'Cayo Luis Peña, formerly South West Key, is a small uninhabited island off the west coast of Culebra, an island municipality of Puerto Rico. The island is a nature reserve which forms part of the Culebra National Wildlife Refuge. Visitors are allowed on the island for nature walks, snorkeling, and swimming; however, visitors are not allowed to stay on the island overnight. The island is only accessible via private water taxis. This limited access results in relatively few visitors, and the island and surrounding reefs are able to stay more pristine as a result. The small number of visitors also makes the island more private for those willing to make the journey. Luis Peña Beach is located on the north side of the island. The island is named after its second owner.', 'municipality': 'Unknown', 'name': 'Cayo Luis Pe\\\\xc3\\\\xb1a', 'source_file': 'cayo_luis_peña.txt'}, {'category': 'Landmark', 'coordinates': \"{'latitude': None, 'longitude': None}\", 'description': \"['The Laguna Cartagena National Wildlife Refuge (Spanish: Refugio de Vida Silvestre de Laguna Cartagena) is a 1,043-acre National Wildlife Refuge in Lajas, Puerto Rico. It is part of the Caribbean Islands National Wildlife Refuge Complex.[1][2]\\\\\\\\n', 'The present lagoon is a remnant of what was once a large open expanse of water and one of the most important freshwater habitats for migrating waterfowl and aquatic birds in Puerto Rico. Due to agricultural practices, about 90 percent of the lagoon is covered with cattail. Intensive cattle grazing and sugar cane production have greatly altered the original landscape.\\\\\\\\n', 'In addition to the lagoon, there are uplands that include pastureland, abandoned sugar cane fields, and 263 acres (1.06 km²) in the foothills of the Sierra Bermeja. These hills, geologically the oldest in the Caribbean, protect native forest with many endemic plant species. The area is a stopover for neotropical migrants and several species of waterbirds. The endangered yellow-shouldered blackbird and peregrine falcon have been reported on the refuge. \\\\\\\\n']\", 'municipality': 'Unknown', 'name': 'Laguna Cartagena National Wildlife Refuge', 'source_file': 'laguna_cartagena_national_wildlife_refuge.txt'}]], 'distances': [[44.340065002441406, 44.818992614746094, 45.03119659423828]], 'included': [<IncludeEnum.distances: 'distances'>, <IncludeEnum.documents: 'documents'>, <IncludeEnum.metadatas: 'metadatas'>]}\n",
            "2025-02-12 02:00:17,219 - INFO - Final prompt to query LLM: User asked about 'R\\xc3\\xado Abajo State Forest'. The location is part of a large list of landmarks and municipalities in Puerto Rico. Answer the user's query related to this location: 'I like the forest and eating pork. Where can I go?'.\n"
          ]
        },
        {
          "name": "stdout",
          "output_type": "stream",
          "text": [
            "Assistant: None\n"
          ]
        }
      ],
      "source": [
        "import logging\n",
        "\n",
        "# Ensure logging is configured (adjust the configuration as needed)\n",
        "logging.basicConfig(\n",
        "    level=logging.INFO,\n",
        "    format=\"%(asctime)s - %(levelname)s - %(message)s\"\n",
        ")\n",
        "\n",
        "def generate_assistant_prompt(user_query, location=None):\n",
        "    \"\"\"\n",
        "    Generate a prompt for the LLM based on the user's query and location metadata.\n",
        "    \"\"\"\n",
        "    if location:\n",
        "        prompt = (f\"User asked about '{location}'. The location is part of a large list of \"\n",
        "                  f\"landmarks and municipalities in Puerto Rico. Answer the user's query \"\n",
        "                  f\"related to this location: '{user_query}'.\")\n",
        "    else:\n",
        "        prompt = (f\"User has the following query: '{user_query}'. Provide suggestions about \"\n",
        "                  f\"relevant locations or landmarks in Puerto Rico based on the user’s interests.\")\n",
        "    \n",
        "    logging.debug(f\"Generated prompt: {prompt}\")\n",
        "    return prompt\n",
        "\n",
        "def find_relevant_documents(user_query):\n",
        "    \"\"\"\n",
        "    Query ChromaDB for documents relevant to the user's query.\n",
        "    \"\"\"\n",
        "    try:\n",
        "        query_embedding = embedding_model.encode(user_query).tolist()\n",
        "        results = landmark_collection.query(\n",
        "            query_embeddings=[query_embedding],\n",
        "            n_results=3  # Number of results to retrieve\n",
        "        )\n",
        "        logging.info(\"ChromaDB returned: %s\", results)\n",
        "    except Exception as e:\n",
        "        logging.error(\"Error querying ChromaDB: %s\", e)\n",
        "        results = {}\n",
        "    return results\n",
        "\n",
        "def assistant_response(user_query):\n",
        "    \"\"\"\n",
        "    Generate the assistant's response by first retrieving relevant documents,\n",
        "    then constructing a prompt for the LLM based on metadata from those documents.\n",
        "    \"\"\"\n",
        "    relevant_docs = find_relevant_documents(user_query)\n",
        "    location_info = None\n",
        "\n",
        "    try:\n",
        "        # Check if relevant documents exist and the first document is not None\n",
        "        if (relevant_docs and \n",
        "            relevant_docs.get(\"documents\") and \n",
        "            relevant_docs[\"documents\"][0] is not None):\n",
        "            \n",
        "            metadata_item = relevant_docs[\"metadatas\"][0]\n",
        "            # If metadata_item is a list, extract its first element\n",
        "            if isinstance(metadata_item, list):\n",
        "                if len(metadata_item) > 0:\n",
        "                    location_info = metadata_item[0].get(\"name\", \"No location found\")\n",
        "                else:\n",
        "                    logging.warning(\"Received an empty metadata list.\")\n",
        "                    location_info = \"No location found\"\n",
        "            elif isinstance(metadata_item, dict):\n",
        "                location_info = metadata_item.get(\"name\", \"No location found\")\n",
        "            else:\n",
        "                logging.warning(\"Unexpected metadata type: %s\", type(metadata_item))\n",
        "                location_info = \"No location found\"\n",
        "\n",
        "            prompt = generate_assistant_prompt(user_query, location=location_info)\n",
        "        else:\n",
        "            prompt = (f\"Sorry, I couldn't find any matching places for '{user_query}'. \"\n",
        "                      f\"Could you provide more specific information?\")\n",
        "        \n",
        "        logging.info(\"Final prompt to query LLM: %s\", prompt)\n",
        "    except Exception as e:\n",
        "        logging.error(\"Error processing relevant documents: %s\", e)\n",
        "        prompt = f\"Sorry, there was an error processing your request.\"\n",
        "\n",
        "    # try:\n",
        "    #     response = query_llm(prompt)\n",
        "    #     return response\n",
        "    # except Exception as e:\n",
        "    #     logging.error(\"Error querying LLM: %s\", e)\n",
        "    #     ic(prompt)\n",
        "    #     return \"Sorry, there was an error generating a response.\"\n",
        "    \n",
        "    \n",
        "    # Example test run:\n",
        "if __name__ == \"__main__\":\n",
        "    user_input = \"I like the forest and eating pork. Where can I go?\"\n",
        "    try:\n",
        "        answer = assistant_response(user_input)\n",
        "        print(\"Assistant:\", answer)\n",
        "    except Exception as ex:\n",
        "        print(\"Assistant encountered an error:\", ex)\n"
      ]
    },
    {
      "cell_type": "markdown",
      "metadata": {
        "id": "4Z8FJdjTHpXR"
      },
      "source": [
        "## Testing the LLM\n"
      ]
    },
    {
      "cell_type": "code",
      "execution_count": 39,
      "metadata": {
        "colab": {
          "base_uri": "https://localhost:8080/",
          "height": 384
        },
        "id": "9jWA14EfHd70",
        "outputId": "ca3c2dc4-a394-4372-c2ce-32e4bbb26008"
      },
      "outputs": [
        {
          "name": "stderr",
          "output_type": "stream",
          "text": [
            "Batches: 100%|██████████| 1/1 [00:00<00:00, 111.02it/s]\n",
            "2025-02-12 02:00:27,930 - INFO - ChromaDB returned: {'ids': [['r\\\\xc3\\\\xado_abajo_state_forest', 'cayo_luis_pe\\\\xc3\\\\xb1a', 'laguna_cartagena_national_wildlife_refuge']], 'embeddings': None, 'documents': [[None, None, None]], 'uris': None, 'data': None, 'metadatas': [[{'category': 'Landmark', 'coordinates': \"{'latitude': None, 'longitude': None}\", 'description': \"['Rio Abajo State Forest is a forest preserve in Puerto Rico owned by the Department of Natural Resources and one of the 20 state forests on the island. It was designated a National Natural Landmark in 1980 and constitutes an area of 3,590 acres. It consists mostly of subtropical wet and moist karst forest. Mogotes and sinkholes fill the landscape. The forest preserve is located in the municipalities of Arecibo and Utuado. In addition to its ecological value, the forest also contains a number of archaeological sites. ', 'Much of the development within the forest area was made by the Civilian Conservation Corps (CCC) during the 20th century. The forest preserve was one of the five designated forests established in 1943 by the Puerto Rico Reconstruction Administration (Spanish: Administración de Reconstrucción de Puerto Rico) to preserve the remaining forested areas on the island. This forest also protects a large portion of the Arecibo River hydrological basin. The remains of the lumber roads cut by the loggers and CCC workers have now become trails. Due to its value as an ideal representation of the karstic ecosystems in Puerto Rico and the Caribbean, the state forest was designated a National Natural Landmark by the United States Department of the Interior in 1980. ', 'Río Abajo State Forest is located on rugged karstic terrain in north-central Puerto Rico, between the municipalities of Arecibo (Hato Viejo and Río Arriba) and Utuado (Caguana and Río Abajo). ']\", 'municipality': 'Unknown', 'name': 'R\\\\xc3\\\\xado Abajo State Forest', 'source_file': 'río_abajo_state_forest.txt'}, {'category': 'Landmark', 'coordinates': \"{'latitude': None, 'longitude': None}\", 'description': 'Cayo Luis Peña, formerly South West Key, is a small uninhabited island off the west coast of Culebra, an island municipality of Puerto Rico. The island is a nature reserve which forms part of the Culebra National Wildlife Refuge. Visitors are allowed on the island for nature walks, snorkeling, and swimming; however, visitors are not allowed to stay on the island overnight. The island is only accessible via private water taxis. This limited access results in relatively few visitors, and the island and surrounding reefs are able to stay more pristine as a result. The small number of visitors also makes the island more private for those willing to make the journey. Luis Peña Beach is located on the north side of the island. The island is named after its second owner.', 'municipality': 'Unknown', 'name': 'Cayo Luis Pe\\\\xc3\\\\xb1a', 'source_file': 'cayo_luis_peña.txt'}, {'category': 'Landmark', 'coordinates': \"{'latitude': None, 'longitude': None}\", 'description': \"['The Laguna Cartagena National Wildlife Refuge (Spanish: Refugio de Vida Silvestre de Laguna Cartagena) is a 1,043-acre National Wildlife Refuge in Lajas, Puerto Rico. It is part of the Caribbean Islands National Wildlife Refuge Complex.[1][2]\\\\\\\\n', 'The present lagoon is a remnant of what was once a large open expanse of water and one of the most important freshwater habitats for migrating waterfowl and aquatic birds in Puerto Rico. Due to agricultural practices, about 90 percent of the lagoon is covered with cattail. Intensive cattle grazing and sugar cane production have greatly altered the original landscape.\\\\\\\\n', 'In addition to the lagoon, there are uplands that include pastureland, abandoned sugar cane fields, and 263 acres (1.06 km²) in the foothills of the Sierra Bermeja. These hills, geologically the oldest in the Caribbean, protect native forest with many endemic plant species. The area is a stopover for neotropical migrants and several species of waterbirds. The endangered yellow-shouldered blackbird and peregrine falcon have been reported on the refuge. \\\\\\\\n']\", 'municipality': 'Unknown', 'name': 'Laguna Cartagena National Wildlife Refuge', 'source_file': 'laguna_cartagena_national_wildlife_refuge.txt'}]], 'distances': [[44.340065002441406, 44.818992614746094, 45.03119659423828]], 'included': [<IncludeEnum.distances: 'distances'>, <IncludeEnum.documents: 'documents'>, <IncludeEnum.metadatas: 'metadatas'>]}\n",
            "2025-02-12 02:00:27,930 - INFO - Final prompt to query LLM: User asked about 'R\\xc3\\xado Abajo State Forest'. The location is part of a large list of landmarks and municipalities in Puerto Rico. Answer the user's query related to this location: 'I like the forest and eating pork. Where can I go?'.\n"
          ]
        },
        {
          "name": "stdout",
          "output_type": "stream",
          "text": [
            "Assistant: None\n"
          ]
        }
      ],
      "source": [
        "# Simulate a conversation with the assistant\n",
        "user_input = \"I like the forest and eating pork. Where can I go?\"\n",
        "assistant_output = assistant_response(user_input)\n",
        "\n",
        "print(f\"Assistant: {assistant_output}\")"
      ]
    }
  ],
  "metadata": {
    "colab": {
      "include_colab_link": true,
      "provenance": []
    },
    "kernelspec": {
      "display_name": ".venv",
      "language": "python",
      "name": "python3"
    },
    "language_info": {
      "codemirror_mode": {
        "name": "ipython",
        "version": 3
      },
      "file_extension": ".py",
      "mimetype": "text/x-python",
      "name": "python",
      "nbconvert_exporter": "python",
      "pygments_lexer": "ipython3",
      "version": "3.10.10"
    }
  },
  "nbformat": 4,
  "nbformat_minor": 0
}
