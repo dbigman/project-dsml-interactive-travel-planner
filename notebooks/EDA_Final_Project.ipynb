{
  "nbformat": 4,
  "nbformat_minor": 0,
  "metadata": {
    "colab": {
      "provenance": []
    },
    "kernelspec": {
      "name": "python3",
      "display_name": "Python 3"
    },
    "language_info": {
      "name": "python"
    }
  },
  "cells": [
    {
      "cell_type": "markdown",
      "source": [
        "# The Hitchiker's Guide to Puerto Rico Exploratory Data Analysis\n",
        "In this project, we are going to use all the Data Science and Machine Learning skills we have acquired during the course of the last few weeks to build an interactive travel planner for the beautiful island of Puerto Rico. By the end of this project, we will present a working application that cooperates with a visitor to help them build a travel itinerary suitable to their personal preferences.\n",
        "\n",
        "Before we can start, we need to understand the datasets that we will be utilizing for the implementation of this project. The 3 dataset that we will use are:\n",
        "\n",
        "\n",
        "1.   elmundo_chunked_es_page1_40years - collection of news articles spanning 40 years\n",
        "2.   municipalities - information on all 78 municipalities located in Puerto Rico\n",
        "3.   landmarks - information on important landmarks located in Puerto Rico\n",
        "\n",
        "\n",
        "\n"
      ],
      "metadata": {
        "id": "iHwxqMeySFUv"
      }
    },
    {
      "cell_type": "markdown",
      "source": [
        "## Exploratory Data Analysis\n",
        "First we mount Google drive to bring the files from the project and analyze them."
      ],
      "metadata": {
        "id": "RSNuomtI_Syw"
      }
    },
    {
      "cell_type": "code",
      "source": [
        "# Mount Drive\n",
        "from google.colab import drive\n",
        "drive.mount('/content/drive/')"
      ],
      "metadata": {
        "colab": {
          "base_uri": "https://localhost:8080/"
        },
        "id": "X_bk8fZ5g-5_",
        "outputId": "9c4a49b0-11bd-49b4-c5c3-dd66bb755ae4"
      },
      "execution_count": null,
      "outputs": [
        {
          "output_type": "stream",
          "name": "stdout",
          "text": [
            "Mounted at /content/drive/\n"
          ]
        }
      ]
    },
    {
      "cell_type": "code",
      "execution_count": null,
      "metadata": {
        "id": "HJ3_fVS3Nti4"
      },
      "outputs": [],
      "source": [
        "# Imports\n",
        "import os\n",
        "import requests\n",
        "import numpy as np\n",
        "import matplotlib.pyplot as plt\n",
        "\n",
        "# to .json\n",
        "import json\n",
        "from bs4 import BeautifulSoup\n",
        "import re\n",
        "import html"
      ]
    },
    {
      "cell_type": "markdown",
      "source": [
        "## Checking Dataset Folder Contents\n",
        "Before we begin working with the datasets, we need to check then and make sure what type of data is contained within them. By now we are used to working with large datasets so we'll apply the same techniques used throughout the bootcamp."
      ],
      "metadata": {
        "id": "om8JMhzyCeOo"
      }
    },
    {
      "cell_type": "code",
      "source": [
        "import os\n",
        "\n",
        "# Define your folder paths\n",
        "folder_paths = [\n",
        "    \"/content/drive/MyDrive/IronHack_final_project/elmundo_chunked_es_page1_40years\",\n",
        "    \"/content/drive/MyDrive/IronHack_final_project/municipalities\",\n",
        "    \"/content/drive/MyDrive/IronHack_final_project/landmarks\"\n",
        "]\n",
        "\n",
        "# Count files in each folder\n",
        "for folder in folder_paths:\n",
        "    if os.path.exists(folder):\n",
        "        file_count = len([f for f in os.listdir(folder) if os.path.isfile(os.path.join(folder, f))])\n",
        "        print(f\"Folder '{folder}' contains {file_count} files.\")\n",
        "    else:\n",
        "        print(f\"Folder '{folder}' does not exist.\")\n"
      ],
      "metadata": {
        "colab": {
          "base_uri": "https://localhost:8080/"
        },
        "id": "uFdAjb6DC4-Z",
        "outputId": "0959daf6-89cb-4d1f-dfe2-63e81ef75253"
      },
      "execution_count": null,
      "outputs": [
        {
          "output_type": "stream",
          "name": "stdout",
          "text": [
            "Folder '/content/drive/MyDrive/IronHack_final_project/elmundo_chunked_es_page1_40years' contains 1668 files.\n",
            "Folder '/content/drive/MyDrive/IronHack_final_project/municipalities' contains 78 files.\n",
            "Folder '/content/drive/MyDrive/IronHack_final_project/landmarks' contains 574 files.\n"
          ]
        }
      ]
    },
    {
      "cell_type": "markdown",
      "source": [
        "### Each folder contains:\n",
        "\n",
        "\n",
        "1.   News article folder contains: 1668 files of text\n",
        "2.   Municipalities contains: 78 files of raw HTML\n",
        "3.   Landmarks contains: 574 files of raw HTML\n",
        "\n",
        "The text files can be processed directly  without issue, however, the raw HTML will need to be preprocessed to extract the useful information from them. We have decided to arrange everything neatly in a .json(JavaScript Object Notation) file for easier and cleaner access. From the raw HTML we need to extract things:\n",
        "\n",
        "1.   name - of the landmark or municipality\n",
        "2.   summary - brief description\n",
        "3.   coordinates - location\n",
        "\n",
        "\n",
        "\n"
      ],
      "metadata": {
        "id": "Q1iD4TEbEdnK"
      }
    },
    {
      "cell_type": "markdown",
      "source": [
        "# To JSON"
      ],
      "metadata": {
        "id": "G1Ey8HKgCts7"
      }
    },
    {
      "cell_type": "markdown",
      "source": [
        "### Functions\n",
        "With these functions we clean the datasets and then turn them into .json format to use later on in the implementation."
      ],
      "metadata": {
        "id": "1EUAhXnjVatR"
      }
    },
    {
      "cell_type": "code",
      "source": [
        "# Function to clean unwanted characters and fix words\n",
        "def clean_text(text):\n",
        "    # Remove unwanted characters (e.g., escape sequences like \"\\xc9\")\n",
        "    text = re.sub(r'\\\\[xX][0-9A-Fa-f]{2}', '', text)  # Remove escaped Unicode characters\n",
        "    text = re.sub(r'[\\r\\n\\t]', ' ', text)  # Remove newlines and tabs\n",
        "    text = re.sub(r'\\s+', ' ', text)  # Replace multiple spaces with one\n",
        "    text = text.strip()  # Remove leading and trailing spaces\n",
        "    return text\n",
        "\n",
        "# Function to add missing characters like 'ñ'\n",
        "def add_missing_characters(text):\n",
        "    # Mapping of words that might need 'ñ' or other fixes\n",
        "    replacements = {\n",
        "        \"Aguada\": \"Aguada\",\n",
        "        \"Aasco\": \"Añasco\",\n",
        "        \"Catao\": \"Cataño\",\n",
        "        \"Nio\": \"Niño\",\n",
        "        \"Peuelas\": \"Peñuelas\"\n",
        "        # Add other common words as needed\n",
        "    }\n",
        "\n",
        "    # Replace words based on the mapping\n",
        "    for wrong_word, correct_word in replacements.items():\n",
        "        text = re.sub(rf'\\b{wrong_word}\\b', correct_word, text, flags=re.IGNORECASE)\n",
        "    return text\n",
        "\n",
        "# Function to extract coordinates from the HTML content\n",
        "def extract_coordinates(html_content):\n",
        "    # Regex pattern to match lat and lon inside \"wgCoordinates\"\n",
        "    coordinates_pattern = r'\"wgCoordinates\":\\s*\\{\\s*\"lat\":\\s*(-?\\d+\\.\\d+),\\s*\"lon\":\\s*(-?\\d+\\.\\d+)\\s*\\}'\n",
        "    match = re.search(coordinates_pattern, html_content)\n",
        "\n",
        "    if match:\n",
        "        # Clean and extract latitude and longitude as float values\n",
        "        lat = float(match.group(1).strip().replace(\"\\\\n\", \"\"))  # Remove any unwanted newline characters\n",
        "        lon = float(match.group(2).strip().replace(\"\\\\n\", \"\"))  # Remove any unwanted newline characters\n",
        "        return lat, lon\n",
        "\n",
        "    return None, None"
      ],
      "metadata": {
        "id": "nBNvL9x3Vc2d"
      },
      "execution_count": null,
      "outputs": []
    },
    {
      "cell_type": "markdown",
      "source": [
        "### Municipalities"
      ],
      "metadata": {
        "id": "5OCa74XjRnhg"
      }
    },
    {
      "cell_type": "code",
      "source": [
        "# Path to the municipalities folder in Google Drive\n",
        "municipalities_folder = \"/content/drive/MyDrive/IronHack_final_project/municipalities\"\n",
        "\n",
        "# List to store structured data\n",
        "municipalities_data = []\n",
        "\n",
        "# Loop through each .txt file in the folder\n",
        "for filename in os.listdir(municipalities_folder):\n",
        "    if filename.endswith(\".txt\"):  # Ensure we only process .txt files\n",
        "        file_path = os.path.join(municipalities_folder, filename)\n",
        "\n",
        "        # Read the HTML content\n",
        "        with open(file_path, \"r\", encoding=\"utf-8\") as file:\n",
        "            html_content = file.read()\n",
        "\n",
        "        # Parse HTML using BeautifulSoup\n",
        "        soup = BeautifulSoup(html_content, \"html.parser\")\n",
        "\n",
        "        # Extract title (or use filename if no title found), and clean it\n",
        "        title = clean_text(soup.title.string) if soup.title else clean_text(filename.replace(\".txt\", \"\"))\n",
        "        # Remove \" - Wikipedia\" from the title\n",
        "        title = title.replace(\" - Wikipedia\", \"\")\n",
        "        title = add_missing_characters(title)  # Add missing characters to the title\n",
        "\n",
        "        # Extract first 3 paragraphs for description\n",
        "        paragraphs = [clean_text(p.get_text(strip=True)) for p in soup.find_all(\"p\")][:3]\n",
        "        paragraphs = [add_missing_characters(p) for p in paragraphs]  # Add missing characters to description\n",
        "\n",
        "        # Extract coordinates (latitude and longitude) from HTML content\n",
        "        latitude, longitude = extract_coordinates(html_content)\n",
        "\n",
        "        # Structure the data\n",
        "        municipality = {\n",
        "            \"name\": title,\n",
        "            \"category\": \"Municipality\",\n",
        "            \"description\": paragraphs,\n",
        "            \"coordinates\": {\n",
        "                \"latitude\": latitude,\n",
        "                \"longitude\": longitude\n",
        "            },\n",
        "            \"source_file\": filename\n",
        "        }\n",
        "\n",
        "        # Append to the list\n",
        "        municipalities_data.append(municipality)\n",
        "\n",
        "# Save structured data as JSON\n",
        "output_json = \"/content/drive/MyDrive/IronHack_final_project/municipalities.json\"\n",
        "with open(output_json, \"w\", encoding=\"utf-8\") as json_file:\n",
        "    json.dump(municipalities_data, json_file, indent=4, ensure_ascii=False)\n",
        "\n",
        "print(f\"Municipality data with coordinates saved as {output_json}\")"
      ],
      "metadata": {
        "colab": {
          "base_uri": "https://localhost:8080/"
        },
        "id": "kZWMpCAPlyxi",
        "outputId": "7a427232-e3d3-4d4f-9c85-7f3f88841991"
      },
      "execution_count": null,
      "outputs": [
        {
          "output_type": "stream",
          "name": "stdout",
          "text": [
            "Municipality data with coordinates saved as /content/drive/MyDrive/IronHack_final_project/municipalities.json\n"
          ]
        }
      ]
    },
    {
      "cell_type": "markdown",
      "source": [
        "### Landmarks"
      ],
      "metadata": {
        "id": "RFR62hGpRsWe"
      }
    },
    {
      "cell_type": "code",
      "source": [
        "# Path to the landmarks folder in Google Drive\n",
        "landmarks_folder = \"/content/drive/MyDrive/IronHack_final_project/landmarks\"\n",
        "\n",
        "# List to store structured data\n",
        "landmarks_data = []\n",
        "\n",
        "# Loop through each .txt file in the folder\n",
        "for filename in os.listdir(landmarks_folder):\n",
        "    if filename.endswith(\".txt\"):  # Ensure we only process .txt files\n",
        "        file_path = os.path.join(landmarks_folder, filename)\n",
        "\n",
        "        # Read the HTML content\n",
        "        with open(file_path, \"r\", encoding=\"utf-8\") as file:\n",
        "            html_content = file.read()\n",
        "\n",
        "        # Parse HTML using BeautifulSoup\n",
        "        soup = BeautifulSoup(html_content, \"html.parser\")\n",
        "\n",
        "        # Extract title (or use filename if no title found)\n",
        "        title = soup.title.string if soup.title else filename.replace(\".txt\", \"\")\n",
        "        title = clean_text(title)  # Clean the title text\n",
        "\n",
        "        # Extract first 3 paragraphs for description\n",
        "        paragraphs = [p.get_text(strip=True) for p in soup.find_all(\"p\")][:3]\n",
        "        paragraphs = [clean_text(paragraph) for paragraph in paragraphs]  # Clean description paragraphs\n",
        "\n",
        "        # Extract coordinates (if available)\n",
        "        lat, lon = extract_coordinates(html_content)\n",
        "        coordinates = {\"latitude\": lat, \"longitude\": lon} if lat and lon else None\n",
        "\n",
        "        # Find the municipality (look for it in the text)\n",
        "        municipality = None\n",
        "        if \"municipality\" in html_content.lower():\n",
        "            municipality_match = re.search(r\"Municipality of\\s+([A-Za-z\\s]+)\", html_content)\n",
        "            if municipality_match:\n",
        "                municipality = clean_text(municipality_match.group(1))  # Clean municipality text\n",
        "\n",
        "        # Structure the data\n",
        "        landmark = {\n",
        "            \"name\": title,\n",
        "            \"category\": \"Landmark\",\n",
        "            \"description\": paragraphs,\n",
        "            \"coordinates\": coordinates,\n",
        "            \"municipality\": municipality,\n",
        "            \"source_file\": filename\n",
        "        }\n",
        "\n",
        "        # Append to the list\n",
        "        landmarks_data.append(landmark)\n",
        "\n",
        "# Save structured data as JSON\n",
        "output_json = \"/content/drive/MyDrive/IronHack_final_project/landmarks.json\"\n",
        "with open(output_json, \"w\", encoding=\"utf-8\") as json_file:\n",
        "    json.dump(landmarks_data, json_file, indent=4, ensure_ascii=False)\n",
        "\n",
        "print(f\"Landmark data saved as {output_json}\")"
      ],
      "metadata": {
        "colab": {
          "base_uri": "https://localhost:8080/"
        },
        "id": "AQhsrTVqRwDa",
        "outputId": "1bea6fdc-a075-48b8-903a-69084faa683d"
      },
      "execution_count": null,
      "outputs": [
        {
          "output_type": "stream",
          "name": "stdout",
          "text": [
            "Landmark data saved as /content/drive/MyDrive/IronHack_final_project/landmarks.json\n"
          ]
        }
      ]
    },
    {
      "cell_type": "markdown",
      "source": [
        "## News"
      ],
      "metadata": {
        "id": "sgI4UouXYvtx"
      }
    },
    {
      "cell_type": "code",
      "source": [
        "# Navigate to the correct folder\n",
        "data_dir = \"/content/drive/MyDrive/IronHack_final_project/elmundo_chunked_es_page1_40years\"\n",
        "files = os.listdir(data_dir)\n",
        "\n",
        "print(f\"Total files: {len(files)}\")\n",
        "print(\"Sample files:\", files[:5])  # Preview first 5 files\n",
        "file_sizes = {file: os.path.getsize(os.path.join(data_dir, file)) for file in files}\n",
        "print(f\"Average file size: {sum(file_sizes.values()) / len(file_sizes):.2f} bytes\")\n",
        "print(\"Smallest files:\", sorted(file_sizes.items(), key=lambda x: x[1])[:5])\n",
        "print(\"Largest files:\", sorted(file_sizes.items(), key=lambda x: x[1], reverse=True)[:5])"
      ],
      "metadata": {
        "colab": {
          "base_uri": "https://localhost:8080/"
        },
        "id": "_D0DyRRnYyXu",
        "outputId": "7518b720-6840-4fcc-e350-4cf817072338"
      },
      "execution_count": null,
      "outputs": [
        {
          "output_type": "stream",
          "name": "stdout",
          "text": [
            "Total files: 1668\n",
            "Sample files: ['19320430_1.txt', '19320305_1.txt', '19311226_1.txt', '19301206_1.txt', '19320123_1.txt']\n",
            "Average file size: 19467.90 bytes\n",
            "Smallest files: [('19380101_1.txt', 9), ('19410104_1.txt', 9), ('19280901_1.txt', 6673), ('19351221_1.txt', 7570), ('19360125_1.txt', 7782)]\n",
            "Largest files: [('19470802_1.txt', 37101), ('19471004_1.txt', 36966), ('19461221_1.txt', 36070), ('19470524_1.txt', 35724), ('19471206_1.txt', 35615)]\n"
          ]
        }
      ]
    },
    {
      "cell_type": "markdown",
      "source": [
        "### Sampling Data from the News Articles"
      ],
      "metadata": {
        "id": "pe51uH5Hgh4_"
      }
    },
    {
      "cell_type": "code",
      "source": [
        "def read_text_file(file_path, num_lines=15):\n",
        "    with open(file_path, \"r\", encoding=\"utf-8\") as f:\n",
        "        return \"\\n\".join([next(f) for _ in range(num_lines)])\n",
        "\n",
        "sample_file = os.path.join(data_dir, files[0])\n",
        "print(f\"Contents of {files[0]}:\\n\", read_text_file(sample_file))"
      ],
      "metadata": {
        "colab": {
          "base_uri": "https://localhost:8080/"
        },
        "id": "JLl3oTGGSkrG",
        "outputId": "21fae48d-7068-49e5-9b81-d577aa7a9528"
      },
      "execution_count": null,
      "outputs": [
        {
          "output_type": "stream",
          "name": "stdout",
          "text": [
            "Contents of 19320430_1.txt:\n",
            " elmBndo\n",
            "\n",
            "1 SPáginasJctvs\n",
            "\n",
            "J\n",
            "\n",
            "DIARIO DE LA MAÑANA\n",
            "\n",
            "AÑO XIV. | SAN JUAN, PUERTO RICO.\n",
            "\n",
            "*£!* <Us £ ibut 2‘ 1 u f^ er No. 801 authorized by the Act of October 6, 1917, on file at the Poet Office at tbe Prftsl( lent A. S. Burleson, Postmaster General. Entered as second class matter. febr uary 21, 1919 at the Post Office at San Juan. P. R. (United States of America) under the Act of march 3, 1879.\n",
            "\n",
            "¡ SABADO 30 DE ABRIL DE 1932. I NUMERO 4647.\n",
            "\n",
            "PROYECTOS DE LEY Y RESOLUCIONES FIRMADOS M\n",
            "\n",
            "El gobernador Beverley, momento» ante» de embarcar, firmó los sígnente» proyecto» d» ley y reso- * luclone»:P. del S. 146, titulado: \"Ley creando un fondo permanente de emergencia; disponiendo lo necesario para su aplicación, y para otro» fines.'’ P. de la O. 252, titulado: “Ley para enmendar la Sección 1 de la Ley Núm. 17 aprobada el 27 de mayo de 1919 titulada ‘Ley para impedir la Introducción en Puerto Rico de enfermedades de plantas e insectos y de plagas’, y para otros fines.’’ P. del S. 110, titulado: “Ley para enmendar la Sección 2 de la Ley número 38, aprobada el 13 de abril de 1916, y titulada ‘Ley determinando reglas para el ejercicio de la profesión de abogado en Puerto Rico’ enmendada por la Ley Núm. 29 de 25 de abril de 1927, y para otros fines.” P. de la C. 178, titulado: “Ley para cancelar las contribuciones adeudadas por las fincas de café correspondientes al año económico\n",
            "\n",
            "Dr. Franceschi Enfermedades del Pulmón. (Adultos y Niños.) Lavados de) Pulmón. 'Medicación Endobronquial. Consultorio: Tobacco Palace. Residencia: Hotel Palace.\n",
            "\n",
            "DR. QUIÑONES JIMENEZ De regreso de su viajé de estudios participa * su clientela que se halla nuevamente al frente de su Policlínica en la Avenida Nereidas, Condado. Enfermedades de loa ojos, nariz, garganta, oídos y cirugía del cerebro relacionada con su especialidad.\n",
            "\n",
            "Por el gobernador Becerley antes de embarcar M\n",
            "\n",
            "1928-29; par* condonar parcialm.nt» la» d» lo» ejercicio» económico» de 1929-30 y 1930-31; para aplazar el cobro de esta» con tribuclone»; para fijar un tipo de tasación para dicha» finca» de café; para asignar fondo» para compensar a los municipios por las condonaciones hechas, y para otros fines.” R. C. del 8. 107, titulada: “Resolución Conjunta para autorizar al Tesorero y al Auditor de Puerto Rico para pagar al Gobierno de la Capital 1* suma de cincuenta mil (50,0001 dólares del Fondo de Reserva creado por el Inciso quinto del artículo 2 de la Ley Núm. 5 de la Asamblea Legislativa de Puerto Rico, aprobada el 9 de abril de 1930, como parte de la asignación creada por el articulo 5 de la Ley número 99, aprobada el 15 de mayo de 1931, y para otros fines.” R. C. de la C. 197, titulada: “Resolución Conjunta para enmendar las secciones 1, 2 y 5, derogar la Sección 4 de la Resolución Conjunta Núm. 65, aprobada el 8 de\n",
            "\n",
            "¿Dolores reumáticos?,.. ÍCaFI ASPIRIN a! | rápidamente alivia a\n",
            "\n",
            "No admita Substituciones\n",
            "\n"
          ]
        }
      ]
    },
    {
      "cell_type": "code",
      "source": [
        "file_lengths = []\n",
        "\n",
        "for file in files:\n",
        "    with open(os.path.join(data_dir, file), \"r\", encoding=\"utf-8\") as f:\n",
        "        text = f.read()\n",
        "        file_lengths.append(len(text.split()))  # Count words\n",
        "\n",
        "print(f\"Average words per file: {np.mean(file_lengths):.2f}\")\n",
        "print(f\"Min words: {np.min(file_lengths)}, Max words: {np.max(file_lengths)}\")"
      ],
      "metadata": {
        "colab": {
          "base_uri": "https://localhost:8080/"
        },
        "id": "gjyaqnAUg5bl",
        "outputId": "108e055c-82af-4e45-d690-324ef1f1343a"
      },
      "execution_count": null,
      "outputs": [
        {
          "output_type": "stream",
          "name": "stdout",
          "text": [
            "Average words per file: 3227.00\n",
            "Min words: 2, Max words: 6177\n"
          ]
        }
      ]
    },
    {
      "cell_type": "markdown",
      "source": [
        "### Word Count plot\n",
        "To vicualize the amount of words in each file of the dataset and have a better understanding of the average file length."
      ],
      "metadata": {
        "id": "5Ca29YdGiFJj"
      }
    },
    {
      "cell_type": "code",
      "source": [
        "plt.hist(file_lengths, bins=50, edgecolor=\"black\")\n",
        "plt.xlabel(\"Word Count per File\")\n",
        "plt.ylabel(\"Number of Files\")\n",
        "plt.title(\"Distribution of Document Lengths\")\n",
        "plt.show()"
      ],
      "metadata": {
        "colab": {
          "base_uri": "https://localhost:8080/",
          "height": 472
        },
        "id": "dGnh9cUiiMJ-",
        "outputId": "69fa2ec9-a6ae-4606-d6b7-7c44676ba60a"
      },
      "execution_count": null,
      "outputs": [
        {
          "output_type": "display_data",
          "data": {
            "text/plain": [
              "<Figure size 640x480 with 1 Axes>"
            ],
            "image/png": "[encoded data removed]"
          },
          "metadata": {}
        }
      ]
    }
  ]
}