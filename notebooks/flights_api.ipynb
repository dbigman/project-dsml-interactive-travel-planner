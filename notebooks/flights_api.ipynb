{
 "cells": [
  {
   "cell_type": "code",
   "execution_count": null,
   "metadata": {},
   "outputs": [
    {
     "name": "stdout",
     "output_type": "stream",
     "text": [
      "{\"data\":{\"Outbound\":\"2025-02\",\"Traces\":{\"0\":\"202502150222*I*YUL*ABJ*20250228*skyp*PD\",\"1\":\"202502161741*I*YUL*ABJ*20250226*oojo*AT\",\"2\":\"202502170017*I*YUL*ABJ*20250227*oojo*AT\",\"3\":\"202502140301*I*YUL*ABJ*20250219*luft*LH\",\"4\":\"202502170034*I*YUL*ABJ*20250220*oojo*AT\",\"5\":\"202502150217*I*YUL*ABJ*20250224*oojo*AT\",\"6\":\"202502161929*I*YUL*ABJ*20250225*skyp*PD\",\"7\":\"202502150216*I*YUL*ABJ*20250223*oojo*AT\"},\"PriceGrids\":{\"Grid\":[[{\"DirectOutboundAvailable\":false},{\"DirectOutboundAvailable\":false},{\"DirectOutboundAvailable\":false},{\"DirectOutboundAvailable\":false},{\"DirectOutboundAvailable\":false},{\"DirectOutboundAvailable\":false},{\"DirectOutboundAvailable\":false},{\"DirectOutboundAvailable\":false},{\"DirectOutboundAvailable\":false},{\"DirectOutboundAvailable\":false},{\"DirectOutboundAvailable\":false},{\"DirectOutboundAvailable\":false},{\"DirectOutboundAvailable\":false},{\"DirectOutboundAvailable\":false},{\"DirectOutboundAvailable\":false},{\"DirectOutboundAvailable\":false},{\"DirectOutboundAvailable\":false},{\"DirectOutboundAvailable\":false},{\"DirectOutboundAvailable\":false,\"IndirectOutbound\":{\"Price\":748.0},\"Indirect\":{\"Price\":748.0,\"TraceRefs\":[\"3\"]}},{\"DirectOutboundAvailable\":false,\"IndirectOutbound\":{\"Price\":624.0},\"Indirect\":{\"Price\":624.0,\"TraceRefs\":[\"4\"]}},{\"DirectOutboundAvailable\":false},{\"DirectOutboundAvailable\":false},{\"DirectOutboundAvailable\":false,\"IndirectOutbound\":{\"Price\":625.0},\"Indirect\":{\"Price\":625.0,\"TraceRefs\":[\"7\"]}},{\"DirectOutboundAvailable\":false,\"IndirectOutbound\":{\"Price\":625.0},\"Indirect\":{\"Price\":625.0,\"TraceRefs\":[\"5\"]}},{\"DirectOutboundAvailable\":false,\"IndirectOutbound\":{\"Price\":670.0},\"Indirect\":{\"Price\":670.0,\"TraceRefs\":[\"6\"]}},{\"DirectOutboundAvailable\":false,\"IndirectOutbound\":{\"Price\":871.0},\"Indirect\":{\"Price\":871.0,\"TraceRefs\":[\"1\"]}},{\"DirectOutboundAvailable\":false,\"IndirectOutbound\":{\"Price\":871.0},\"Indirect\":{\"Price\":871.0,\"TraceRefs\":[\"2\"]}},{\"DirectOutboundAvailable\":false,\"IndirectOutbound\":{\"Price\":660.0},\"Indirect\":{\"Price\":660.0,\"TraceRefs\":[\"0\"]}}]]}},\"status\":true,\"message\":\"Successful\"}\n"
     ]
    }
   ],
   "source": [
    "import http.client\n",
    "from dotenv import load_dotenv\n",
    "import os\n",
    "\n",
    "load_dotenv()\n",
    "\n",
    "\n",
    "conn = http.client.HTTPSConnection(\"sky-scanner3.p.rapidapi.com\")\n",
    "\n",
    "headers = {\n",
    "    'x-rapidapi-key': os.getenv(\"RAPIDAPI_KEY\"),\n",
    "    'x-rapidapi-host': os.getenv(\"RAPIDAPI_HOST\")\n",
    "}\n",
    "\n",
    "conn.request(\"GET\", \"/flights/price-calendar-web?fromEntityId=YUL&toEntityId=ABJ&yearMonth=2025-02\", headers=headers)\n",
    "\n",
    "res = conn.getresponse()\n",
    "data = res.read()\n",
    "\n",
    "print(data.decode(\"utf-8\"))"
   ]
  },
  {
   "cell_type": "code",
   "execution_count": 4,
   "metadata": {},
   "outputs": [
    {
     "name": "stdout",
     "output_type": "stream",
     "text": [
      "{\"message\":\"Invalid API key. Go to https:\\/\\/docs.rapidapi.com\\/docs\\/keys for more info.\"}\n"
     ]
    }
   ],
   "source": [
    "import requests\n",
    "import os\n",
    "\n",
    "# Define variables for query parameters\n",
    "departure_location = \"SJU\"      # fromEntityId: Departure location ID\n",
    "arrival_location = \"EZE\"        # toEntityId: Arrival location ID\n",
    "year_month = \"2025-04\"          # yearMonth: The month and year for the calendar view\n",
    "\n",
    "# Base URL for the API endpoint\n",
    "url = \"https://sky-scanner3.p.rapidapi.com/flights/price-calendar-web\"\n",
    "\n",
    "# Set up the query parameters as a dictionary\n",
    "params = {\n",
    "    \"fromEntityId\": departure_location,\n",
    "    \"toEntityId\": arrival_location,\n",
    "    \"yearMonth\": year_month\n",
    "}\n",
    "\n",
    "# Set up the headers including your API key and host\n",
    "headers = {\n",
    "    \"Content-Type\": \"application/json\",\n",
    "    \"X-RapidAPI-Key\": os.getenv(\"RAPIDAPI_KEY\"),  # Replace with your actual RapidAPI key\n",
    "    \"X-RapidAPI-Host\": os.getenv(\"RAPIDAPI_HOST\")\n",
    "}\n",
    "\n",
    "# Send the GET request with the parameters and headers\n",
    "response = requests.get(url, headers=headers, params=params)\n",
    "\n",
    "# Print the response text\n",
    "print(response.text)\n"
   ]
  }
 ],
 "metadata": {
  "kernelspec": {
   "display_name": ".venv",
   "language": "python",
   "name": "python3"
  },
  "language_info": {
   "codemirror_mode": {
    "name": "ipython",
    "version": 3
   },
   "file_extension": ".py",
   "mimetype": "text/x-python",
   "name": "python",
   "nbconvert_exporter": "python",
   "pygments_lexer": "ipython3",
   "version": "3.10.10"
  }
 },
 "nbformat": 4,
 "nbformat_minor": 2
}
